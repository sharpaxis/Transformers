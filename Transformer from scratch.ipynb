{
 "cells": [
  {
   "cell_type": "code",
   "execution_count": 1,
   "id": "d0d842ba",
   "metadata": {},
   "outputs": [],
   "source": [
    "import numpy \n",
    "import torch\n",
    "import torch.nn.functional as F\n",
    "import torch.nn as nn"
   ]
  },
  {
   "cell_type": "code",
   "execution_count": 20,
   "id": "f88f21cd",
   "metadata": {},
   "outputs": [],
   "source": [
    "def scaled_dot_attention(Q,K,V,mask):\n",
    "    dot_prod = torch.matmul(Q,K.mT)\n",
    "    d_k = torch.tensor(K.size(-1),dtype=torch.float32)\n",
    "    scaled_dot = dot_prod/torch.sqrt(d_k)\n",
    "    if mask is not None:\n",
    "        scaled_dot = scaled_dot.masked_fill(mask == 0, -1e9)\n",
    "    soft_dot = F.softmax(scaled_dot,dim=1)\n",
    "    attention = torch.mm(soft_dot,V)\n",
    "    return attention"
   ]
  },
  {
   "cell_type": "code",
   "execution_count": 21,
   "id": "8d3bd389",
   "metadata": {},
   "outputs": [],
   "source": [
    "Q = torch.Tensor([13,424,424,254,2]).view(1,-1)\n",
    "K = torch.Tensor([13,214,14,864,32]).view(1,-1)\n",
    "V = torch.Tensor([64,43,54,1,4]).view(1,-1)\n",
    "mask = torch.ones(Q.shape[0], K.shape[0])"
   ]
  },
  {
   "cell_type": "code",
   "execution_count": 22,
   "id": "dd8dda9e",
   "metadata": {},
   "outputs": [],
   "source": [
    "attention_score = scaled_dot_attention(Q,K,V,mask)"
   ]
  },
  {
   "cell_type": "code",
   "execution_count": 23,
   "id": "a1b24f42",
   "metadata": {},
   "outputs": [
    {
     "data": {
      "text/plain": [
       "tensor([[64., 43., 54.,  1.,  4.]])"
      ]
     },
     "execution_count": 23,
     "metadata": {},
     "output_type": "execute_result"
    }
   ],
   "source": [
    "attention_score"
   ]
  },
  {
   "cell_type": "code",
   "execution_count": 24,
   "id": "1c595669",
   "metadata": {},
   "outputs": [],
   "source": [
    "class AttentionHead(nn.Module):\n",
    "    def __init__(self,embedding_dim,head_dim,mask=False):\n",
    "        super(AttentionHead,self).__init__()\n",
    "        self.Q = nn.Linear(embedding_dim,head_dim)\n",
    "        self.K = nn.Linear(embedding_dim,head_dim)\n",
    "        self.V = nn.Linear(embedding_dim,head_dim)\n",
    "        self.mask = torch.ones(Q.shape[0], K.shape[0]) if mask else None\n",
    "    def forward(self,x):\n",
    "        q = self.Q(x)\n",
    "        k = self.K(x)\n",
    "        v = self.V(x)\n",
    "        attention_score = scaled_dot_attention(q,k,v,self.mask)\n",
    "        return attention_score"
   ]
  },
  {
   "cell_type": "code",
   "execution_count": 34,
   "id": "011ed27a",
   "metadata": {},
   "outputs": [],
   "source": [
    "class MultiHeadAttention(nn.Module):\n",
    "    def __init__(self,embedding_dim,num_heads):\n",
    "        super(MultiHeadAttention,self).__init__()\n",
    "        self.head_dim = embedding_dim//num_heads\n",
    "        self.embedding_dim = embedding_dim\n",
    "        self.num_heads = num_heads\n",
    "        self.heads = nn.ModuleList([AttentionHead(self.embedding_dim,self.head_dim) for _ in range(num_heads)])\n",
    "        self.Wo = nn.Linear(embedding_dim,embedding_dim)\n",
    "    def forward(self,x,mask=None):\n",
    "        scores = []\n",
    "        for head in self.heads:\n",
    "            scores.append(head(x))\n",
    "        scores = torch.cat(scores,dim=-1)\n",
    "        attention = self.Wo(scores)\n",
    "        return attention"
   ]
  },
  {
   "cell_type": "code",
   "execution_count": 35,
   "id": "26270f6b",
   "metadata": {},
   "outputs": [],
   "source": [
    "class FeedForward(nn.Module):\n",
    "    def __init__(self,d_model=512,dff=2048,dropout=0.3):\n",
    "        super(FeedForward,self).__init__()\n",
    "        self.fc1 = nn.Linear(d_model,dff)\n",
    "        self.fc2 = nn.Linear(dff,d_model)\n",
    "        self.dropout = nn.Dropout(dropout)\n",
    "        self.layernorm = nn.LayerNorm(d_model)\n",
    "    def forward(self,x):\n",
    "        out = F.gelu(self.fc1(x))\n",
    "        out = self.fc2(out)\n",
    "        out = self.dropout(out)\n",
    "        out = self.layernorm(x + out)\n",
    "        return out"
   ]
  },
  {
   "cell_type": "code",
   "execution_count": 9,
   "id": "39361605",
   "metadata": {},
   "outputs": [],
   "source": [
    "from transformers import AutoTokenizer\n",
    "from bertviz.transformers_neuron_view import BertModel\n",
    "from bertviz.neuron_view import show\n",
    "from IPython.display import display, HTML"
   ]
  },
  {
   "cell_type": "code",
   "execution_count": 10,
   "id": "e660ad6a",
   "metadata": {},
   "outputs": [
    {
     "name": "stderr",
     "output_type": "stream",
     "text": [
      "/opt/anaconda3/envs/myenv/lib/python3.10/site-packages/bertviz/transformers_neuron_view/modeling_utils.py:482: FutureWarning: You are using `torch.load` with `weights_only=False` (the current default value), which uses the default pickle module implicitly. It is possible to construct malicious pickle data which will execute arbitrary code during unpickling (See https://github.com/pytorch/pytorch/blob/main/SECURITY.md#untrusted-models for more details). In a future release, the default value for `weights_only` will be flipped to `True`. This limits the functions that could be executed during unpickling. Arbitrary objects will no longer be allowed to be loaded via this mode unless they are explicitly allowlisted by the user via `torch.serialization.add_safe_globals`. We recommend you start setting `weights_only=True` for any use case where you don't have full control of the loaded file. Please open an issue on GitHub for any issues related to this experimental feature.\n",
      "  state_dict = torch.load(resolved_archive_file, map_location='cpu')\n"
     ]
    }
   ],
   "source": [
    "model_ckpt = 'bert-base-uncased'\n",
    "tokenizer = AutoTokenizer.from_pretrained(model_ckpt)\n",
    "model = BertModel.from_pretrained(model_ckpt)\n",
    "text = \"Cat Chased the quick mouse and jumped over the brown fox which was sleeping on the floor\"\n",
    "vis = show(model,\"bert\",tokenizer,text,display_mode='dark',layer=0,head=0,html_action='return')"
   ]
  },
  {
   "cell_type": "code",
   "execution_count": 27,
   "id": "7b15d895",
   "metadata": {},
   "outputs": [],
   "source": [
    "def positional_encoding(embedding,pos):\n",
    "    embedding_dim = embedding.size(-1)\n",
    "    positional_vect = torch.zeros_like(embedding)\n",
    "    for k in range(emebdding_dim):\n",
    "        if k % 2 ==0:\n",
    "            positional_vect[k] = math.sin(pos/(10000**(k/embeddin_dim)))\n",
    "        elif k % 2 ==1:\n",
    "            positional_vect[k] = math.cos(pos/(10000**(k/embeddin_dim)))\n",
    "    return positional_vect"
   ]
  },
  {
   "cell_type": "code",
   "execution_count": 28,
   "id": "ba8f813c",
   "metadata": {},
   "outputs": [
    {
     "name": "stdout",
     "output_type": "stream",
     "text": [
      "Visualization saved as 'vis.html'. Open this file in a browser to view.\n"
     ]
    }
   ],
   "source": [
    "with open(\"vis.html\", \"w\") as f:\n",
    "    f.write(vis.data)\n",
    "    \n",
    "print(\"Visualization saved as 'vis.html'. Open this file in a browser to view.\")"
   ]
  },
  {
   "cell_type": "code",
   "execution_count": null,
   "id": "64f46000",
   "metadata": {},
   "outputs": [],
   "source": []
  }
 ],
 "metadata": {
  "kernelspec": {
   "display_name": "Python 3 (ipykernel)",
   "language": "python",
   "name": "python3"
  },
  "language_info": {
   "codemirror_mode": {
    "name": "ipython",
    "version": 3
   },
   "file_extension": ".py",
   "mimetype": "text/x-python",
   "name": "python",
   "nbconvert_exporter": "python",
   "pygments_lexer": "ipython3",
   "version": "3.10.15"
  }
 },
 "nbformat": 4,
 "nbformat_minor": 5
}
