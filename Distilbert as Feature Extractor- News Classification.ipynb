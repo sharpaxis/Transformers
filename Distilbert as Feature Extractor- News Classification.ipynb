{
 "cells": [
  {
   "cell_type": "code",
   "execution_count": 1,
   "id": "499bd5f3",
   "metadata": {},
   "outputs": [],
   "source": [
    "import torch\n",
    "import torch.nn as nn\n",
    "import torch.nn.functional as F\n",
    "device = torch.device(\"mps\")\n",
    "import datasets\n",
    "import transformers"
   ]
  },
  {
   "cell_type": "code",
   "execution_count": 3,
   "id": "a759f568",
   "metadata": {},
   "outputs": [],
   "source": [
    "from transformers import AutoModel,AutoTokenizer\n",
    "model_ckpt = 'distilbert-base-uncased'\n",
    "model = AutoModel.from_pretrained(model_ckpt).to(device)\n",
    "tokenizer = AutoTokenizer.from_pretrained(model_ckpt)"
   ]
  },
  {
   "cell_type": "code",
   "execution_count": 4,
   "id": "4d33b23b",
   "metadata": {},
   "outputs": [
    {
     "data": {
      "application/vnd.jupyter.widget-view+json": {
       "model_id": "dbb81014d13b42a7892230e46848d2ac",
       "version_major": 2,
       "version_minor": 0
      },
      "text/plain": [
       "Generating train split: 0 examples [00:00, ? examples/s]"
      ]
     },
     "metadata": {},
     "output_type": "display_data"
    },
    {
     "data": {
      "application/vnd.jupyter.widget-view+json": {
       "model_id": "aa0d94abcf914e07b5f6da21b4d2a213",
       "version_major": 2,
       "version_minor": 0
      },
      "text/plain": [
       "Generating train split: 0 examples [00:00, ? examples/s]"
      ]
     },
     "metadata": {},
     "output_type": "display_data"
    }
   ],
   "source": [
    "train_data = datasets.load_dataset(\"csv\",data_files=\"train.csv\",split=\"train\")\n",
    "test_data = datasets.load_dataset(\"csv\",data_files=\"test.csv\",split=\"train\")"
   ]
  },
  {
   "cell_type": "code",
   "execution_count": 5,
   "id": "f341443f",
   "metadata": {},
   "outputs": [
    {
     "data": {
      "text/plain": [
       "Dataset({\n",
       "    features: ['id', 'keyword', 'location', 'text', 'target'],\n",
       "    num_rows: 7613\n",
       "})"
      ]
     },
     "execution_count": 5,
     "metadata": {},
     "output_type": "execute_result"
    }
   ],
   "source": [
    "train_data"
   ]
  },
  {
   "cell_type": "code",
   "execution_count": 6,
   "id": "35c90378",
   "metadata": {},
   "outputs": [
    {
     "data": {
      "text/plain": [
       "Dataset({\n",
       "    features: ['id', 'keyword', 'location', 'text'],\n",
       "    num_rows: 3263\n",
       "})"
      ]
     },
     "execution_count": 6,
     "metadata": {},
     "output_type": "execute_result"
    }
   ],
   "source": [
    "test_data"
   ]
  },
  {
   "cell_type": "code",
   "execution_count": 7,
   "id": "df5cefb1",
   "metadata": {},
   "outputs": [],
   "source": [
    "#apply tokenizer\n",
    "def tokenize(batch):\n",
    "    return tokenizer(batch['text'],padding=True,truncation=True)"
   ]
  },
  {
   "cell_type": "code",
   "execution_count": 9,
   "id": "d7ff5259",
   "metadata": {},
   "outputs": [
    {
     "data": {
      "application/vnd.jupyter.widget-view+json": {
       "model_id": "a3816cdd611140fbb4b3e8afed4f7255",
       "version_major": 2,
       "version_minor": 0
      },
      "text/plain": [
       "Map:   0%|          | 0/7613 [00:00<?, ? examples/s]"
      ]
     },
     "metadata": {},
     "output_type": "display_data"
    },
    {
     "data": {
      "application/vnd.jupyter.widget-view+json": {
       "model_id": "2835867d5479460ab2589dc3326dfb84",
       "version_major": 2,
       "version_minor": 0
      },
      "text/plain": [
       "Map:   0%|          | 0/3263 [00:00<?, ? examples/s]"
      ]
     },
     "metadata": {},
     "output_type": "display_data"
    }
   ],
   "source": [
    "train_data_en = train_data.map(tokenize,batched=True,batch_size=None)\n",
    "test_data_en = test_data.map(tokenize,batched=True,batch_size=None)"
   ]
  },
  {
   "cell_type": "code",
   "execution_count": 10,
   "id": "f5bc3dca",
   "metadata": {},
   "outputs": [],
   "source": [
    "train_data_en.set_format(type='torch',columns=['input_ids','attention_mask','target'])\n",
    "test_data_en.set_format(type='torch',columns=['input_ids','attention_mask'])"
   ]
  },
  {
   "cell_type": "code",
   "execution_count": 11,
   "id": "7b8158c4",
   "metadata": {},
   "outputs": [
    {
     "data": {
      "text/plain": [
       "{'target': tensor(1),\n",
       " 'input_ids': tensor([  101,  2256, 15616,  2024,  1996,  3114,  1997,  2023,  1001,  8372,\n",
       "          2089, 16455,  9641,  2149,  2035,   102,     0,     0,     0,     0,\n",
       "             0,     0,     0,     0,     0,     0,     0,     0,     0,     0,\n",
       "             0,     0,     0,     0,     0,     0,     0,     0,     0,     0,\n",
       "             0,     0,     0,     0,     0,     0,     0,     0,     0,     0,\n",
       "             0,     0,     0,     0,     0,     0,     0,     0,     0,     0,\n",
       "             0,     0,     0,     0,     0,     0,     0,     0,     0,     0,\n",
       "             0,     0,     0,     0,     0,     0,     0,     0,     0,     0,\n",
       "             0,     0,     0,     0]),\n",
       " 'attention_mask': tensor([1, 1, 1, 1, 1, 1, 1, 1, 1, 1, 1, 1, 1, 1, 1, 1, 0, 0, 0, 0, 0, 0, 0, 0,\n",
       "         0, 0, 0, 0, 0, 0, 0, 0, 0, 0, 0, 0, 0, 0, 0, 0, 0, 0, 0, 0, 0, 0, 0, 0,\n",
       "         0, 0, 0, 0, 0, 0, 0, 0, 0, 0, 0, 0, 0, 0, 0, 0, 0, 0, 0, 0, 0, 0, 0, 0,\n",
       "         0, 0, 0, 0, 0, 0, 0, 0, 0, 0, 0, 0])}"
      ]
     },
     "execution_count": 11,
     "metadata": {},
     "output_type": "execute_result"
    }
   ],
   "source": [
    "train_data_en[0]"
   ]
  },
  {
   "cell_type": "code",
   "execution_count": 12,
   "id": "a9590757",
   "metadata": {},
   "outputs": [],
   "source": [
    "#extract hidden state \n",
    "def extract_hidden(batch):\n",
    "    inputs = {k:v.to(device) for k,v in batch.items() if k in tokenizer.model_input_names}\n",
    "    with torch.no_grad():\n",
    "        out = model(**inputs)\n",
    "    hidden = out.last_hidden_state[:,0]\n",
    "    return {\"hidden\":hidden.cpu().numpy()}"
   ]
  },
  {
   "cell_type": "code",
   "execution_count": 14,
   "id": "2c79ee61",
   "metadata": {},
   "outputs": [
    {
     "data": {
      "application/vnd.jupyter.widget-view+json": {
       "model_id": "e5ec3a30dad84ea3b083e2d842120a49",
       "version_major": 2,
       "version_minor": 0
      },
      "text/plain": [
       "Map:   0%|          | 0/7613 [00:00<?, ? examples/s]"
      ]
     },
     "metadata": {},
     "output_type": "display_data"
    },
    {
     "data": {
      "application/vnd.jupyter.widget-view+json": {
       "model_id": "e8ca8393bb8b48f59db212a24de264bb",
       "version_major": 2,
       "version_minor": 0
      },
      "text/plain": [
       "Map:   0%|          | 0/3263 [00:00<?, ? examples/s]"
      ]
     },
     "metadata": {},
     "output_type": "display_data"
    }
   ],
   "source": [
    "train_hidden = train_data_en.map(extract_hidden,batched=True,batch_size=16)\n",
    "test_hidden = test_data_en.map(extract_hidden,batched=True,batch_size=16)"
   ]
  },
  {
   "cell_type": "code",
   "execution_count": 17,
   "id": "aa6a5a45",
   "metadata": {},
   "outputs": [],
   "source": [
    "import numpy as np\n",
    "X_train = np.array(train_hidden['hidden'])\n",
    "y_train = np.array(train_hidden['target'])\n",
    "X_test = np.array(test_hidden['hidden'])"
   ]
  },
  {
   "cell_type": "code",
   "execution_count": 19,
   "id": "7f3bbb74",
   "metadata": {},
   "outputs": [
    {
     "name": "stderr",
     "output_type": "stream",
     "text": [
      "OMP: Info #276: omp_set_nested routine deprecated, please use omp_set_max_active_levels instead.\n"
     ]
    },
    {
     "data": {
      "image/png": "[encoded data removed]",
      "text/plain": [
       "<Figure size 600x400 with 2 Axes>"
      ]
     },
     "metadata": {},
     "output_type": "display_data"
    }
   ],
   "source": [
    "import pandas as pd\n",
    "import matplotlib.pyplot as plt\n",
    "from umap import UMAP\n",
    "from sklearn.preprocessing import MinMaxScaler\n",
    "min_max = MinMaxScaler()\n",
    "X_scaled = min_max.fit_transform(X_train)\n",
    "mapper = UMAP(n_components=2,metric='cosine').fit(X_scaled)\n",
    "df_emb = pd.DataFrame(mapper.embedding_,columns=['X','Y'])\n",
    "df_emb['label'] = y_train\n",
    "fig,axes = plt.subplots(1,2,figsize=(6,4))\n",
    "axes = axes.flatten()\n",
    "cmaps = ['Blues','Oranges']\n",
    "labels = [\"Normal\",\"Disaster\"]\n",
    "for i,(label,cmaps) in enumerate(zip(labels,cmaps)):\n",
    "    df_emb_sub = df_emb.query(f\"label == {i}\")\n",
    "    axes[i].hexbin(df_emb_sub['X'],df_emb_sub['Y'],cmap=cmaps,gridsize=20,linewidths=(0,))\n",
    "    axes[i].set_title(label)\n",
    "    axes[i].set_xticks([]),axes[i].set_yticks([])\n",
    "plt.tight_layout()\n",
    "plt.show()"
   ]
  },
  {
   "cell_type": "code",
   "execution_count": 20,
   "id": "6459e6cd",
   "metadata": {},
   "outputs": [],
   "source": [
    "from sklearn.ensemble import RandomForestClassifier\n",
    "rfc = RandomForestClassifier()\n",
    "rfc.fit(X_train,y_train)\n",
    "pred_rfc = rfc.predict(X_test)"
   ]
  },
  {
   "cell_type": "code",
   "execution_count": 22,
   "id": "4dff2185",
   "metadata": {},
   "outputs": [],
   "source": [
    "pred_to_csv(pred_rfc,\"rfc_bert\")"
   ]
  },
  {
   "cell_type": "code",
   "execution_count": 23,
   "id": "ab92dcda",
   "metadata": {},
   "outputs": [
    {
     "name": "stderr",
     "output_type": "stream",
     "text": [
      "/opt/anaconda3/envs/myenv/lib/python3.10/site-packages/sklearn/linear_model/_logistic.py:469: ConvergenceWarning: lbfgs failed to converge (status=1):\n",
      "STOP: TOTAL NO. of ITERATIONS REACHED LIMIT.\n",
      "\n",
      "Increase the number of iterations (max_iter) or scale the data as shown in:\n",
      "    https://scikit-learn.org/stable/modules/preprocessing.html\n",
      "Please also refer to the documentation for alternative solver options:\n",
      "    https://scikit-learn.org/stable/modules/linear_model.html#logistic-regression\n",
      "  n_iter_i = _check_optimize_result(\n"
     ]
    }
   ],
   "source": [
    "from sklearn.linear_model import LogisticRegression\n",
    "lg = LogisticRegression()\n",
    "lg.fit(X_train,y_train)\n",
    "pred_lg = lg.predict(X_test)"
   ]
  },
  {
   "cell_type": "code",
   "execution_count": 24,
   "id": "2c1b5dee",
   "metadata": {},
   "outputs": [],
   "source": [
    "pred_to_csv(pred_lg,\"LG_bert\")"
   ]
  },
  {
   "cell_type": "code",
   "execution_count": 25,
   "id": "e7fc7f7e",
   "metadata": {},
   "outputs": [],
   "source": [
    "from xgboost import XGBClassifier\n",
    "xgb = XGBClassifier()\n",
    "xgb.fit(X_train,y_train)\n",
    "pred_xgb = xgb.predict(X_test)"
   ]
  },
  {
   "cell_type": "code",
   "execution_count": 26,
   "id": "42a84ad1",
   "metadata": {},
   "outputs": [],
   "source": [
    "pred_to_csv(pred_xgb,\"XG_bert\")"
   ]
  },
  {
   "cell_type": "code",
   "execution_count": 27,
   "id": "eabd7323",
   "metadata": {},
   "outputs": [],
   "source": [
    "import torch.nn as nn\n",
    "import torch.nn.functional as F\n",
    "class Model(nn.Module):\n",
    "    def __init__(self,in_size,h1,h2,h3,h4,h5,out_size=6):\n",
    "        super(Model,self).__init__()\n",
    "        self.fc1 = nn.Linear(in_size,h1)\n",
    "        self.bn1 = nn.BatchNorm1d(h1)\n",
    "        self.fc2 = nn.Linear(h1,h2)\n",
    "        self.bn2 = nn.BatchNorm1d(h2)\n",
    "        self.fc3 = nn.Linear(h2,h3)\n",
    "        self.bn3 = nn.BatchNorm1d(h3)\n",
    "        self.fc4 = nn.Linear(h3,h4)\n",
    "        self.bn4 = nn.BatchNorm1d(h4)\n",
    "        self.fc5 = nn.Linear(h4,h5)\n",
    "        self.bn5 = nn.BatchNorm1d(h5)\n",
    "        self.out = nn.Linear(h5,out_size)\n",
    "    def forward(self,x):\n",
    "        x = F.relu(self.bn1(self.fc1(x)))\n",
    "        x = F.relu(self.bn2(self.fc2(x)))\n",
    "        x = F.relu(self.bn3(self.fc3(x)))\n",
    "        x = F.relu(self.bn4(self.fc4(x)))\n",
    "        x = F.relu(self.bn5(self.fc5(x)))\n",
    "        x = self.out(x)\n",
    "        return F.log_softmax(x,dim=1)"
   ]
  },
  {
   "cell_type": "code",
   "execution_count": 28,
   "id": "f8562f7c",
   "metadata": {},
   "outputs": [],
   "source": [
    "model = Model(X_train.shape[1],h1=512,h2=256,h3=128,h4=64,h5=32,out_size=6).to(device)"
   ]
  },
  {
   "cell_type": "code",
   "execution_count": 30,
   "id": "2ee1ea54",
   "metadata": {},
   "outputs": [],
   "source": [
    "X_train_pt = torch.Tensor(X_train).to(device)\n",
    "y_train_pt = torch.LongTensor(y_train).to(device)\n",
    "X_val_pt = torch.Tensor(X_test).to(device)"
   ]
  },
  {
   "cell_type": "code",
   "execution_count": 31,
   "id": "43303ca5",
   "metadata": {},
   "outputs": [],
   "source": [
    "num_epochs = 300\n",
    "optimizer = torch.optim.Adam(model.parameters(),lr=0.0001)\n",
    "criterion = nn.CrossEntropyLoss()"
   ]
  },
  {
   "cell_type": "code",
   "execution_count": 34,
   "id": "4aed36d6",
   "metadata": {},
   "outputs": [
    {
     "name": "stdout",
     "output_type": "stream",
     "text": [
      "epoch : 50 loss:0.3325308859348297\n",
      "epoch : 100 loss:0.3014482259750366\n",
      "epoch : 150 loss:0.2725652754306793\n",
      "epoch : 200 loss:0.24757181107997894\n",
      "epoch : 250 loss:0.2251119166612625\n",
      "epoch : 300 loss:0.20534276962280273\n"
     ]
    }
   ],
   "source": [
    "for epoch in range(num_epochs):\n",
    "    y_pred = model(X_train_pt)\n",
    "    loss = criterion(y_pred,y_train_pt)\n",
    "    optimizer.zero_grad()\n",
    "    loss.backward()\n",
    "    optimizer.step()\n",
    "    if (epoch+1)%50==0:\n",
    "        print(f\"epoch : {epoch+1} loss:{loss.item()}\")"
   ]
  },
  {
   "cell_type": "code",
   "execution_count": 35,
   "id": "d8066b17",
   "metadata": {},
   "outputs": [],
   "source": [
    "with torch.no_grad():\n",
    "    y_val_model = torch.argmax(model(X_val_pt),dim=1)\n",
    "y_val_model = y_val_model.cpu().numpy()"
   ]
  },
  {
   "cell_type": "code",
   "execution_count": null,
   "id": "8da1f100",
   "metadata": {},
   "outputs": [],
   "source": [
    "pred_to_csv(pred_xgb,\"XG_bert\")"
   ]
  }
 ],
 "metadata": {
  "kernelspec": {
   "display_name": "Python 3 (ipykernel)",
   "language": "python",
   "name": "python3"
  },
  "language_info": {
   "codemirror_mode": {
    "name": "ipython",
    "version": 3
   },
   "file_extension": ".py",
   "mimetype": "text/x-python",
   "name": "python",
   "nbconvert_exporter": "python",
   "pygments_lexer": "ipython3",
   "version": "3.10.15"
  }
 },
 "nbformat": 4,
 "nbformat_minor": 5
}
