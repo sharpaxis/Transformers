{
 "cells": [
  {
   "cell_type": "markdown",
   "id": "c8c1db65",
   "metadata": {},
   "source": [
    "### Goal is compare size and accuracy of various models on finance sentiment and deciding final model for deployment"
   ]
  },
  {
   "cell_type": "code",
   "execution_count": 1,
   "id": "99c7c377",
   "metadata": {},
   "outputs": [],
   "source": [
    "#basic imports\n",
    "import numpy as np\n",
    "import pandas as pd\n",
    "import seaborn as sns\n",
    "import matplotlib.pyplot as plt\n",
    "import torch\n",
    "import torch.nn as nn\n",
    "import torch.nn.functional as F\n",
    "import datasets\n",
    "import transformers\n",
    "from tqdm import tqdm"
   ]
  },
  {
   "cell_type": "code",
   "execution_count": 2,
   "id": "0f7fc569",
   "metadata": {},
   "outputs": [
    {
     "data": {
      "application/vnd.jupyter.widget-view+json": {
       "model_id": "a7bc43fec0fa4ebf8d32d44f0ee51973",
       "version_major": 2,
       "version_minor": 0
      },
      "text/plain": [
       "Generating train split:   0%|          | 0/3453 [00:00<?, ? examples/s]"
      ]
     },
     "metadata": {},
     "output_type": "display_data"
    }
   ],
   "source": [
    "#load dataset\n",
    "#loading instances where 3/4 annotators agreed\n",
    "from datasets import load_dataset\n",
    "news_sent = load_dataset('takala/financial_phrasebank','sentences_75agree')"
   ]
  },
  {
   "cell_type": "code",
   "execution_count": 3,
   "id": "05cf165f",
   "metadata": {},
   "outputs": [],
   "source": [
    "news_sent = news_sent['train'].train_test_split(train_size=0.8)"
   ]
  },
  {
   "cell_type": "code",
   "execution_count": 4,
   "id": "7dcfb37f",
   "metadata": {},
   "outputs": [
    {
     "data": {
      "text/plain": [
       "DatasetDict({\n",
       "    train: Dataset({\n",
       "        features: ['sentence', 'label'],\n",
       "        num_rows: 2762\n",
       "    })\n",
       "    test: Dataset({\n",
       "        features: ['sentence', 'label'],\n",
       "        num_rows: 691\n",
       "    })\n",
       "})"
      ]
     },
     "execution_count": 4,
     "metadata": {},
     "output_type": "execute_result"
    }
   ],
   "source": [
    "news_sent"
   ]
  },
  {
   "cell_type": "markdown",
   "id": "a28278d6",
   "metadata": {},
   "source": [
    "### Exploring dataset"
   ]
  },
  {
   "cell_type": "code",
   "execution_count": 5,
   "id": "14bf95e2",
   "metadata": {},
   "outputs": [],
   "source": [
    "news_sent.set_format(\"pd\")"
   ]
  },
  {
   "cell_type": "code",
   "execution_count": 6,
   "id": "ce0d7d6a",
   "metadata": {},
   "outputs": [],
   "source": [
    "df = news_sent['train'][:]"
   ]
  },
  {
   "cell_type": "code",
   "execution_count": 7,
   "id": "187cf0d8",
   "metadata": {},
   "outputs": [
    {
     "data": {
      "text/html": [
       "<div>\n",
       "<style scoped>\n",
       "    .dataframe tbody tr th:only-of-type {\n",
       "        vertical-align: middle;\n",
       "    }\n",
       "\n",
       "    .dataframe tbody tr th {\n",
       "        vertical-align: top;\n",
       "    }\n",
       "\n",
       "    .dataframe thead th {\n",
       "        text-align: right;\n",
       "    }\n",
       "</style>\n",
       "<table border=\"1\" class=\"dataframe\">\n",
       "  <thead>\n",
       "    <tr style=\"text-align: right;\">\n",
       "      <th></th>\n",
       "      <th>sentence</th>\n",
       "      <th>label</th>\n",
       "    </tr>\n",
       "  </thead>\n",
       "  <tbody>\n",
       "    <tr>\n",
       "      <th>0</th>\n",
       "      <td>Philips was not available to comment on the re...</td>\n",
       "      <td>1</td>\n",
       "    </tr>\n",
       "    <tr>\n",
       "      <th>1</th>\n",
       "      <td>A total of 38,244 new Citycon shares with a no...</td>\n",
       "      <td>1</td>\n",
       "    </tr>\n",
       "    <tr>\n",
       "      <th>2</th>\n",
       "      <td>Cablevision Systems Corp. CVC Their Madison Sq...</td>\n",
       "      <td>1</td>\n",
       "    </tr>\n",
       "    <tr>\n",
       "      <th>3</th>\n",
       "      <td>`` Over the years , the color orange has becom...</td>\n",
       "      <td>1</td>\n",
       "    </tr>\n",
       "    <tr>\n",
       "      <th>4</th>\n",
       "      <td>The number of magazine and newspaper readers r...</td>\n",
       "      <td>1</td>\n",
       "    </tr>\n",
       "  </tbody>\n",
       "</table>\n",
       "</div>"
      ],
      "text/plain": [
       "                                            sentence  label\n",
       "0  Philips was not available to comment on the re...      1\n",
       "1  A total of 38,244 new Citycon shares with a no...      1\n",
       "2  Cablevision Systems Corp. CVC Their Madison Sq...      1\n",
       "3  `` Over the years , the color orange has becom...      1\n",
       "4  The number of magazine and newspaper readers r...      1"
      ]
     },
     "execution_count": 7,
     "metadata": {},
     "output_type": "execute_result"
    }
   ],
   "source": [
    "df.head()"
   ]
  },
  {
   "cell_type": "markdown",
   "id": "00cfa296",
   "metadata": {},
   "source": [
    "### extract meaning of labels from dataset"
   ]
  },
  {
   "cell_type": "code",
   "execution_count": 8,
   "id": "8a96750c",
   "metadata": {},
   "outputs": [],
   "source": [
    "def int2str_row(row):\n",
    "    return news_sent['train'].features['label'].int2str(row)"
   ]
  },
  {
   "cell_type": "code",
   "execution_count": 9,
   "id": "0bb551c3",
   "metadata": {},
   "outputs": [],
   "source": [
    "df['sentiment'] = df['label'].apply(int2str_row)"
   ]
  },
  {
   "cell_type": "code",
   "execution_count": 10,
   "id": "0076d183",
   "metadata": {},
   "outputs": [
    {
     "data": {
      "text/html": [
       "<div>\n",
       "<style scoped>\n",
       "    .dataframe tbody tr th:only-of-type {\n",
       "        vertical-align: middle;\n",
       "    }\n",
       "\n",
       "    .dataframe tbody tr th {\n",
       "        vertical-align: top;\n",
       "    }\n",
       "\n",
       "    .dataframe thead th {\n",
       "        text-align: right;\n",
       "    }\n",
       "</style>\n",
       "<table border=\"1\" class=\"dataframe\">\n",
       "  <thead>\n",
       "    <tr style=\"text-align: right;\">\n",
       "      <th></th>\n",
       "      <th>sentence</th>\n",
       "      <th>label</th>\n",
       "      <th>sentiment</th>\n",
       "    </tr>\n",
       "  </thead>\n",
       "  <tbody>\n",
       "    <tr>\n",
       "      <th>0</th>\n",
       "      <td>Philips was not available to comment on the re...</td>\n",
       "      <td>1</td>\n",
       "      <td>neutral</td>\n",
       "    </tr>\n",
       "    <tr>\n",
       "      <th>1</th>\n",
       "      <td>A total of 38,244 new Citycon shares with a no...</td>\n",
       "      <td>1</td>\n",
       "      <td>neutral</td>\n",
       "    </tr>\n",
       "    <tr>\n",
       "      <th>2</th>\n",
       "      <td>Cablevision Systems Corp. CVC Their Madison Sq...</td>\n",
       "      <td>1</td>\n",
       "      <td>neutral</td>\n",
       "    </tr>\n",
       "    <tr>\n",
       "      <th>3</th>\n",
       "      <td>`` Over the years , the color orange has becom...</td>\n",
       "      <td>1</td>\n",
       "      <td>neutral</td>\n",
       "    </tr>\n",
       "    <tr>\n",
       "      <th>4</th>\n",
       "      <td>The number of magazine and newspaper readers r...</td>\n",
       "      <td>1</td>\n",
       "      <td>neutral</td>\n",
       "    </tr>\n",
       "  </tbody>\n",
       "</table>\n",
       "</div>"
      ],
      "text/plain": [
       "                                            sentence  label sentiment\n",
       "0  Philips was not available to comment on the re...      1   neutral\n",
       "1  A total of 38,244 new Citycon shares with a no...      1   neutral\n",
       "2  Cablevision Systems Corp. CVC Their Madison Sq...      1   neutral\n",
       "3  `` Over the years , the color orange has becom...      1   neutral\n",
       "4  The number of magazine and newspaper readers r...      1   neutral"
      ]
     },
     "execution_count": 10,
     "metadata": {},
     "output_type": "execute_result"
    }
   ],
   "source": [
    "df.head()"
   ]
  },
  {
   "cell_type": "code",
   "execution_count": 11,
   "id": "906261b5",
   "metadata": {},
   "outputs": [
    {
     "data": {
      "text/plain": [
       "sentiment\n",
       "neutral     1705\n",
       "positive     712\n",
       "negative     345\n",
       "Name: count, dtype: int64"
      ]
     },
     "execution_count": 11,
     "metadata": {},
     "output_type": "execute_result"
    }
   ],
   "source": [
    "df['sentiment'].value_counts()"
   ]
  },
  {
   "cell_type": "markdown",
   "id": "8414e476",
   "metadata": {},
   "source": [
    "### 1 -> neutral 2->positive 0->negative"
   ]
  },
  {
   "cell_type": "code",
   "execution_count": 12,
   "id": "2922b919",
   "metadata": {},
   "outputs": [],
   "source": [
    "df['wrd_len'] = df['sentence'].str.split().apply(len)"
   ]
  },
  {
   "cell_type": "markdown",
   "id": "1691bcf0",
   "metadata": {},
   "source": [
    "### words per sentence"
   ]
  },
  {
   "cell_type": "code",
   "execution_count": 13,
   "id": "f33d71b8",
   "metadata": {},
   "outputs": [
    {
     "data": {
      "image/png": "[encoded data removed]",
      "text/plain": [
       "<Figure size 700x500 with 1 Axes>"
      ]
     },
     "metadata": {},
     "output_type": "display_data"
    }
   ],
   "source": [
    "plt.figure(figsize=(7,5))\n",
    "sns.set_style('white')\n",
    "sns.boxplot(y='wrd_len',data=df,width=0.7,gap=0.2,fill=False,hue='sentiment',linewidth=0.8,palette='winter')\n",
    "plt.title('Words per Sentence')\n",
    "plt.show()\n",
    "#every sentiment news has around 50 words which is a lot less than context length of 512"
   ]
  },
  {
   "cell_type": "code",
   "execution_count": 14,
   "id": "3ec8030b",
   "metadata": {},
   "outputs": [
    {
     "name": "stderr",
     "output_type": "stream",
     "text": [
      "/var/folders/xw/knd54pd91c7cw57n21dntvx80000gn/T/ipykernel_59022/668373761.py:3: FutureWarning: \n",
      "\n",
      "Passing `palette` without assigning `hue` is deprecated and will be removed in v0.14.0. Assign the `x` variable to `hue` and set `legend=False` for the same effect.\n",
      "\n",
      "  sns.countplot(x='sentiment',data=df,width=0.5,gap=0.2,palette='winter')\n"
     ]
    },
    {
     "data": {
      "image/png": "[encoded data removed]",
      "text/plain": [
       "<Figure size 700x500 with 1 Axes>"
      ]
     },
     "metadata": {},
     "output_type": "display_data"
    }
   ],
   "source": [
    "plt.figure(figsize=(7,5))\n",
    "sns.set_style('white')\n",
    "sns.countplot(x='sentiment',data=df,width=0.5,gap=0.2,palette='winter')\n",
    "plt.title('Sentiment Counts')\n",
    "plt.show()"
   ]
  },
  {
   "cell_type": "markdown",
   "id": "96a4753c",
   "metadata": {},
   "source": [
    "### Reset format"
   ]
  },
  {
   "cell_type": "code",
   "execution_count": 15,
   "id": "06ae6388",
   "metadata": {},
   "outputs": [],
   "source": [
    "news_sent.reset_format()"
   ]
  },
  {
   "cell_type": "markdown",
   "id": "06b295c6",
   "metadata": {},
   "source": [
    "### load tokenizer"
   ]
  },
  {
   "cell_type": "markdown",
   "id": "b8680bf3",
   "metadata": {},
   "source": [
    "### First model we will be using is DistilBERT"
   ]
  },
  {
   "cell_type": "code",
   "execution_count": 16,
   "id": "283da4fd",
   "metadata": {},
   "outputs": [],
   "source": [
    "distilbert_path = 'distilbert-base-uncased'"
   ]
  },
  {
   "cell_type": "code",
   "execution_count": 17,
   "id": "d58ad3b3",
   "metadata": {},
   "outputs": [],
   "source": [
    "#distilbert is a distiled version of BERT model\n",
    "from transformers import AutoTokenizer\n",
    "tokenizer = AutoTokenizer.from_pretrained(distilbert_path)"
   ]
  },
  {
   "cell_type": "code",
   "execution_count": 18,
   "id": "3f8b7999",
   "metadata": {},
   "outputs": [
    {
     "data": {
      "text/plain": [
       "['[CLS]',\n",
       " 'a',\n",
       " 'sample',\n",
       " 'text',\n",
       " 'for',\n",
       " 'testing',\n",
       " 'token',\n",
       " '##izer',\n",
       " 'of',\n",
       " 'di',\n",
       " '##sti',\n",
       " '##lbert',\n",
       " '[SEP]']"
      ]
     },
     "execution_count": 18,
     "metadata": {},
     "output_type": "execute_result"
    }
   ],
   "source": [
    "out = tokenizer(\"a sample text for testing tokenizer of distilbert\")\n",
    "tokenizer.convert_ids_to_tokens(out['input_ids'])"
   ]
  },
  {
   "cell_type": "code",
   "execution_count": 19,
   "id": "51c3e04c",
   "metadata": {},
   "outputs": [],
   "source": [
    "def apply_tokenizer(batch):\n",
    "    return tokenizer(batch['sentence'],padding=True,truncation=True)"
   ]
  },
  {
   "cell_type": "code",
   "execution_count": 20,
   "id": "9a3deae9",
   "metadata": {},
   "outputs": [
    {
     "data": {
      "application/vnd.jupyter.widget-view+json": {
       "model_id": "fb064a6ffff64b8496e4190a00769924",
       "version_major": 2,
       "version_minor": 0
      },
      "text/plain": [
       "Map:   0%|          | 0/2762 [00:00<?, ? examples/s]"
      ]
     },
     "metadata": {},
     "output_type": "display_data"
    },
    {
     "data": {
      "application/vnd.jupyter.widget-view+json": {
       "model_id": "2baa5f347f01404b9665f433a93d5041",
       "version_major": 2,
       "version_minor": 0
      },
      "text/plain": [
       "Map:   0%|          | 0/691 [00:00<?, ? examples/s]"
      ]
     },
     "metadata": {},
     "output_type": "display_data"
    }
   ],
   "source": [
    "news_sent = news_sent.map(apply_tokenizer,batched=True,batch_size=None)"
   ]
  },
  {
   "cell_type": "code",
   "execution_count": 21,
   "id": "3b4b7a6d",
   "metadata": {},
   "outputs": [],
   "source": [
    "#set tensor format\n",
    "news_sent.set_format('pt',columns=['input_ids','attention_mask','label'])"
   ]
  },
  {
   "cell_type": "code",
   "execution_count": 22,
   "id": "cde412b8",
   "metadata": {},
   "outputs": [
    {
     "data": {
      "text/plain": [
       "DatasetDict({\n",
       "    train: Dataset({\n",
       "        features: ['sentence', 'label', 'input_ids', 'attention_mask'],\n",
       "        num_rows: 2762\n",
       "    })\n",
       "    test: Dataset({\n",
       "        features: ['sentence', 'label', 'input_ids', 'attention_mask'],\n",
       "        num_rows: 691\n",
       "    })\n",
       "})"
      ]
     },
     "execution_count": 22,
     "metadata": {},
     "output_type": "execute_result"
    }
   ],
   "source": [
    "#structure of dataset\n",
    "news_sent"
   ]
  },
  {
   "cell_type": "code",
   "execution_count": 23,
   "id": "bb33b1b3",
   "metadata": {},
   "outputs": [
    {
     "data": {
      "text/plain": [
       "{'label': tensor(1),\n",
       " 'input_ids': tensor([  101, 19087,  2001,  2025,  2800,  2000,  7615,  2006,  1996,  3189,\n",
       "          1012,   102,     0,     0,     0,     0,     0,     0,     0,     0,\n",
       "             0,     0,     0,     0,     0,     0,     0,     0,     0,     0,\n",
       "             0,     0,     0,     0,     0,     0,     0,     0,     0,     0,\n",
       "             0,     0,     0,     0,     0,     0,     0,     0,     0,     0,\n",
       "             0,     0,     0,     0,     0,     0,     0,     0,     0,     0,\n",
       "             0,     0,     0,     0,     0,     0,     0,     0,     0,     0,\n",
       "             0,     0,     0,     0,     0,     0,     0,     0,     0,     0,\n",
       "             0,     0,     0,     0,     0,     0,     0,     0,     0,     0,\n",
       "             0,     0,     0,     0,     0,     0,     0,     0,     0,     0,\n",
       "             0,     0,     0,     0,     0,     0,     0,     0,     0,     0,\n",
       "             0,     0,     0,     0,     0,     0,     0,     0,     0,     0,\n",
       "             0,     0,     0,     0,     0,     0,     0,     0,     0,     0,\n",
       "             0,     0,     0,     0,     0,     0,     0,     0,     0,     0,\n",
       "             0,     0,     0,     0,     0,     0,     0,     0,     0,     0]),\n",
       " 'attention_mask': tensor([1, 1, 1, 1, 1, 1, 1, 1, 1, 1, 1, 1, 0, 0, 0, 0, 0, 0, 0, 0, 0, 0, 0, 0,\n",
       "         0, 0, 0, 0, 0, 0, 0, 0, 0, 0, 0, 0, 0, 0, 0, 0, 0, 0, 0, 0, 0, 0, 0, 0,\n",
       "         0, 0, 0, 0, 0, 0, 0, 0, 0, 0, 0, 0, 0, 0, 0, 0, 0, 0, 0, 0, 0, 0, 0, 0,\n",
       "         0, 0, 0, 0, 0, 0, 0, 0, 0, 0, 0, 0, 0, 0, 0, 0, 0, 0, 0, 0, 0, 0, 0, 0,\n",
       "         0, 0, 0, 0, 0, 0, 0, 0, 0, 0, 0, 0, 0, 0, 0, 0, 0, 0, 0, 0, 0, 0, 0, 0,\n",
       "         0, 0, 0, 0, 0, 0, 0, 0, 0, 0, 0, 0, 0, 0, 0, 0, 0, 0, 0, 0, 0, 0, 0, 0,\n",
       "         0, 0, 0, 0, 0, 0])}"
      ]
     },
     "execution_count": 23,
     "metadata": {},
     "output_type": "execute_result"
    }
   ],
   "source": [
    "#looking at a sample\n",
    "news_sent['train'][0]\n"
   ]
  },
  {
   "cell_type": "markdown",
   "id": "1ebcec00",
   "metadata": {},
   "source": [
    "### load model"
   ]
  },
  {
   "cell_type": "code",
   "execution_count": 24,
   "id": "bc2b6ebc",
   "metadata": {},
   "outputs": [
    {
     "name": "stderr",
     "output_type": "stream",
     "text": [
      "Some weights of DistilBertForSequenceClassification were not initialized from the model checkpoint at distilbert-base-uncased and are newly initialized: ['classifier.bias', 'classifier.weight', 'pre_classifier.bias', 'pre_classifier.weight']\n",
      "You should probably TRAIN this model on a down-stream task to be able to use it for predictions and inference.\n"
     ]
    }
   ],
   "source": [
    "#set appropriate device\n",
    "from transformers import AutoModelForSequenceClassification\n",
    "device = torch.device(\"mps\")\n",
    "#specify num labels for classification head\n",
    "num_labels = 3\n",
    "model = (AutoModelForSequenceClassification.from_pretrained(distilbert_path,num_labels=num_labels).to(device))"
   ]
  },
  {
   "cell_type": "code",
   "execution_count": 25,
   "id": "3f5f35c0",
   "metadata": {},
   "outputs": [
    {
     "data": {
      "text/plain": [
       "DistilBertForSequenceClassification(\n",
       "  (distilbert): DistilBertModel(\n",
       "    (embeddings): Embeddings(\n",
       "      (word_embeddings): Embedding(30522, 768, padding_idx=0)\n",
       "      (position_embeddings): Embedding(512, 768)\n",
       "      (LayerNorm): LayerNorm((768,), eps=1e-12, elementwise_affine=True)\n",
       "      (dropout): Dropout(p=0.1, inplace=False)\n",
       "    )\n",
       "    (transformer): Transformer(\n",
       "      (layer): ModuleList(\n",
       "        (0-5): 6 x TransformerBlock(\n",
       "          (attention): DistilBertSdpaAttention(\n",
       "            (dropout): Dropout(p=0.1, inplace=False)\n",
       "            (q_lin): Linear(in_features=768, out_features=768, bias=True)\n",
       "            (k_lin): Linear(in_features=768, out_features=768, bias=True)\n",
       "            (v_lin): Linear(in_features=768, out_features=768, bias=True)\n",
       "            (out_lin): Linear(in_features=768, out_features=768, bias=True)\n",
       "          )\n",
       "          (sa_layer_norm): LayerNorm((768,), eps=1e-12, elementwise_affine=True)\n",
       "          (ffn): FFN(\n",
       "            (dropout): Dropout(p=0.1, inplace=False)\n",
       "            (lin1): Linear(in_features=768, out_features=3072, bias=True)\n",
       "            (lin2): Linear(in_features=3072, out_features=768, bias=True)\n",
       "            (activation): GELUActivation()\n",
       "          )\n",
       "          (output_layer_norm): LayerNorm((768,), eps=1e-12, elementwise_affine=True)\n",
       "        )\n",
       "      )\n",
       "    )\n",
       "  )\n",
       "  (pre_classifier): Linear(in_features=768, out_features=768, bias=True)\n",
       "  (classifier): Linear(in_features=768, out_features=3, bias=True)\n",
       "  (dropout): Dropout(p=0.2, inplace=False)\n",
       ")"
      ]
     },
     "execution_count": 25,
     "metadata": {},
     "output_type": "execute_result"
    }
   ],
   "source": [
    "#distilbert has aroung 60 M parameters\n",
    "model"
   ]
  },
  {
   "cell_type": "markdown",
   "id": "0ba157aa",
   "metadata": {},
   "source": [
    "### define metrics for training"
   ]
  },
  {
   "cell_type": "code",
   "execution_count": 26,
   "id": "9878d0cf",
   "metadata": {},
   "outputs": [],
   "source": [
    "# we will be using weighted f1 score and accuracy\n",
    "from sklearn.metrics import f1_score,accuracy_score\n",
    "def compute_metrics(pred):\n",
    "    preds = pred.predictions.argmax(-1)\n",
    "    labels = pred.label_ids\n",
    "    f1 = f1_score(labels,preds,average='weighted')\n",
    "    acc = accuracy_score(labels,preds)\n",
    "    return {'f1':f1,'acc':acc}  "
   ]
  },
  {
   "cell_type": "markdown",
   "id": "5e33bd57",
   "metadata": {},
   "source": [
    "### Setting Training Parameters"
   ]
  },
  {
   "cell_type": "code",
   "execution_count": 27,
   "id": "b390fd53",
   "metadata": {},
   "outputs": [],
   "source": [
    "from transformers import TrainingArguments\n",
    "#set name of new model\n",
    "model_name = 'FIN_DistilBERT_sentiment'\n",
    "#set batch size\n",
    "batch_size = 16\n",
    "#number of logging steps\n",
    "loggin_steps = len(news_sent['train'])//batch_size\n",
    "#epochs and learning rate\n",
    "num_train_epochs = 4\n",
    "#set a relatively low learning rate to avoid overfitting\n",
    "learning_rate = 5e-6\n",
    "#weight decay helps regularizing\n",
    "weight_decay = 0.025\n",
    "#create instance of trainargs\n",
    "training_args = TrainingArguments(output_dir=model_name,\n",
    "                                 per_device_eval_batch_size=batch_size,\n",
    "                                 per_device_train_batch_size=batch_size,\n",
    "                                 logging_steps=loggin_steps,\n",
    "                                 num_train_epochs=num_train_epochs,\n",
    "                                 weight_decay=weight_decay,\n",
    "                                 log_level=\"error\",\n",
    "                                 eval_strategy=\"epoch\",\n",
    "                                 disable_tqdm=False,\n",
    "                                 push_to_hub=True,\n",
    "                                 learning_rate=learning_rate,\n",
    "                                 warmup_steps=600)"
   ]
  },
  {
   "cell_type": "markdown",
   "id": "2c9b0279",
   "metadata": {},
   "source": [
    "### create trainier using Trainer from HF"
   ]
  },
  {
   "cell_type": "markdown",
   "id": "810bc809",
   "metadata": {},
   "source": [
    "# Iteration 1"
   ]
  },
  {
   "cell_type": "code",
   "execution_count": 28,
   "id": "01fd75f8",
   "metadata": {},
   "outputs": [],
   "source": [
    "from transformers import Trainer\n",
    "trainer = Trainer(model=model,\n",
    "                 args=training_args,\n",
    "                 compute_metrics=compute_metrics,\n",
    "                 train_dataset=news_sent['train'],\n",
    "                 eval_dataset=news_sent['test'])"
   ]
  },
  {
   "cell_type": "code",
   "execution_count": 29,
   "id": "6289f827",
   "metadata": {
    "scrolled": false
   },
   "outputs": [
    {
     "data": {
      "text/html": [
       "\n",
       "    <div>\n",
       "      \n",
       "      <progress value='692' max='692' style='width:300px; height:20px; vertical-align: middle;'></progress>\n",
       "      [692/692 04:03, Epoch 4/4]\n",
       "    </div>\n",
       "    <table border=\"1\" class=\"dataframe\">\n",
       "  <thead>\n",
       " <tr style=\"text-align: left;\">\n",
       "      <th>Epoch</th>\n",
       "      <th>Training Loss</th>\n",
       "      <th>Validation Loss</th>\n",
       "      <th>F1</th>\n",
       "      <th>Acc</th>\n",
       "    </tr>\n",
       "  </thead>\n",
       "  <tbody>\n",
       "    <tr>\n",
       "      <td>1</td>\n",
       "      <td>1.032900</td>\n",
       "      <td>0.939266</td>\n",
       "      <td>0.497259</td>\n",
       "      <td>0.638205</td>\n",
       "    </tr>\n",
       "    <tr>\n",
       "      <td>2</td>\n",
       "      <td>0.822100</td>\n",
       "      <td>0.636616</td>\n",
       "      <td>0.694373</td>\n",
       "      <td>0.749638</td>\n",
       "    </tr>\n",
       "    <tr>\n",
       "      <td>3</td>\n",
       "      <td>0.516800</td>\n",
       "      <td>0.373131</td>\n",
       "      <td>0.896627</td>\n",
       "      <td>0.895803</td>\n",
       "    </tr>\n",
       "    <tr>\n",
       "      <td>4</td>\n",
       "      <td>0.285000</td>\n",
       "      <td>0.271155</td>\n",
       "      <td>0.911054</td>\n",
       "      <td>0.910275</td>\n",
       "    </tr>\n",
       "  </tbody>\n",
       "</table><p>"
      ],
      "text/plain": [
       "<IPython.core.display.HTML object>"
      ]
     },
     "metadata": {},
     "output_type": "display_data"
    },
    {
     "data": {
      "text/plain": [
       "TrainOutput(global_step=692, training_loss=0.6617361109036242, metrics={'train_runtime': 243.683, 'train_samples_per_second': 45.338, 'train_steps_per_second': 2.84, 'total_flos': 428767359314400.0, 'train_loss': 0.6617361109036242, 'epoch': 4.0})"
      ]
     },
     "execution_count": 29,
     "metadata": {},
     "output_type": "execute_result"
    }
   ],
   "source": [
    "trainer.train()\n",
    "#lower learning rate and larger weight decay helped training"
   ]
  },
  {
   "cell_type": "markdown",
   "id": "24b9bc7f",
   "metadata": {},
   "source": [
    "### Next set of Training arguments"
   ]
  },
  {
   "cell_type": "code",
   "execution_count": 69,
   "id": "168b93ff",
   "metadata": {},
   "outputs": [],
   "source": [
    "#here we will be lowering overall learning rate increasing weight decay higher batch size\n",
    "from transformers import TrainingArguments\n",
    "#model_2 = (AutoModelForSequenceClassification.from_pretrained(distilbert_path,num_labels=num_labels).to(device))\n",
    "#set name of new model\n",
    "model_name = 'Finance_DistilBERT_sentiment'\n",
    "#set batch size\n",
    "batch_size = 32\n",
    "#number of logging steps\n",
    "loggin_steps = len(news_sent['train'])//batch_size\n",
    "#epochs and learning rate\n",
    "num_train_epochs = 1\n",
    "#set a relatively low learning rate to avoid overfitting\n",
    "learning_rate = 4e-6\n",
    "#weight decay helps regularizing\n",
    "weight_decay = 0.035\n",
    "#create instance of trainargs\n",
    "training_args_v2 = TrainingArguments(output_dir=model_name,\n",
    "                                 per_device_eval_batch_size=batch_size,\n",
    "                                 per_device_train_batch_size=batch_size,\n",
    "                                 logging_steps=loggin_steps,\n",
    "                                 num_train_epochs=num_train_epochs,\n",
    "                                 weight_decay=weight_decay,\n",
    "                                 log_level=\"error\",\n",
    "                                 eval_strategy=\"epoch\",\n",
    "                                 disable_tqdm=False,\n",
    "                                 push_to_hub=False,\n",
    "                                 learning_rate=learning_rate,\n",
    "                                 warmup_steps=600)"
   ]
  },
  {
   "cell_type": "markdown",
   "id": "2d5683d7",
   "metadata": {},
   "source": [
    "# Iteration 2"
   ]
  },
  {
   "cell_type": "code",
   "execution_count": 70,
   "id": "83bdd32c",
   "metadata": {},
   "outputs": [],
   "source": [
    "trainer_v2 = Trainer(model=model_2,\n",
    "                 args=training_args_v2,\n",
    "                 compute_metrics=compute_metrics,\n",
    "                 train_dataset=news_sent['train'],\n",
    "                 eval_dataset=news_sent['test'])"
   ]
  },
  {
   "cell_type": "code",
   "execution_count": 71,
   "id": "5475789c",
   "metadata": {},
   "outputs": [
    {
     "data": {
      "text/html": [
       "\n",
       "    <div>\n",
       "      \n",
       "      <progress value='87' max='87' style='width:300px; height:20px; vertical-align: middle;'></progress>\n",
       "      [87/87 00:41, Epoch 1/1]\n",
       "    </div>\n",
       "    <table border=\"1\" class=\"dataframe\">\n",
       "  <thead>\n",
       " <tr style=\"text-align: left;\">\n",
       "      <th>Epoch</th>\n",
       "      <th>Training Loss</th>\n",
       "      <th>Validation Loss</th>\n",
       "      <th>F1</th>\n",
       "      <th>Acc</th>\n",
       "    </tr>\n",
       "  </thead>\n",
       "  <tbody>\n",
       "    <tr>\n",
       "      <td>1</td>\n",
       "      <td>0.097500</td>\n",
       "      <td>0.276274</td>\n",
       "      <td>0.910100</td>\n",
       "      <td>0.908828</td>\n",
       "    </tr>\n",
       "  </tbody>\n",
       "</table><p>"
      ],
      "text/plain": [
       "<IPython.core.display.HTML object>"
      ]
     },
     "metadata": {},
     "output_type": "display_data"
    },
    {
     "data": {
      "text/plain": [
       "TrainOutput(global_step=87, training_loss=0.09688905489513244, metrics={'train_runtime': 41.7762, 'train_samples_per_second': 66.114, 'train_steps_per_second': 2.083, 'total_flos': 107191839828600.0, 'train_loss': 0.09688905489513244, 'epoch': 1.0})"
      ]
     },
     "execution_count": 71,
     "metadata": {},
     "output_type": "execute_result"
    }
   ],
   "source": [
    "trainer_v2.train()"
   ]
  },
  {
   "cell_type": "code",
   "execution_count": 72,
   "id": "3901a4c1",
   "metadata": {},
   "outputs": [
    {
     "data": {
      "application/vnd.jupyter.widget-view+json": {
       "model_id": "411f926e82164cd0942038805b65d393",
       "version_major": 2,
       "version_minor": 0
      },
      "text/plain": [
       "training_args.bin:   0%|          | 0.00/5.30k [00:00<?, ?B/s]"
      ]
     },
     "metadata": {},
     "output_type": "display_data"
    },
    {
     "data": {
      "application/vnd.jupyter.widget-view+json": {
       "model_id": "d2f45d67ccde4fdaaf12c08bc38cc93e",
       "version_major": 2,
       "version_minor": 0
      },
      "text/plain": [
       "model.safetensors:   0%|          | 0.00/268M [00:00<?, ?B/s]"
      ]
     },
     "metadata": {},
     "output_type": "display_data"
    },
    {
     "data": {
      "application/vnd.jupyter.widget-view+json": {
       "model_id": "40b4ca88e5ba48f0b095f2ddbace5850",
       "version_major": 2,
       "version_minor": 0
      },
      "text/plain": [
       "events.out.tfevents.1733339983.Aadityas-MacBook-Pro.local.59022.12:   0%|          | 0.00/6.09k [00:00<?, ?B/s…"
      ]
     },
     "metadata": {},
     "output_type": "display_data"
    },
    {
     "data": {
      "application/vnd.jupyter.widget-view+json": {
       "model_id": "4919d0e9ff3a4aab96d2147f2b6d65bf",
       "version_major": 2,
       "version_minor": 0
      },
      "text/plain": [
       "Upload 4 LFS files:   0%|          | 0/4 [00:00<?, ?it/s]"
      ]
     },
     "metadata": {},
     "output_type": "display_data"
    },
    {
     "data": {
      "application/vnd.jupyter.widget-view+json": {
       "model_id": "b309e649e7904c60aa1df84eca58019c",
       "version_major": 2,
       "version_minor": 0
      },
      "text/plain": [
       "events.out.tfevents.1733339473.Aadityas-MacBook-Pro.local.59022.11:   0%|          | 0.00/12.4k [00:00<?, ?B/s…"
      ]
     },
     "metadata": {},
     "output_type": "display_data"
    },
    {
     "data": {
      "text/plain": [
       "CommitInfo(commit_url='https://huggingface.co/Sharpaxis/Finance_DistilBERT_sentiment/commit/c00f54dd272ef010c6aeec3ace568a24a1cb2efa', commit_message='done', commit_description='', oid='c00f54dd272ef010c6aeec3ace568a24a1cb2efa', pr_url=None, repo_url=RepoUrl('https://huggingface.co/Sharpaxis/Finance_DistilBERT_sentiment', endpoint='https://huggingface.co', repo_type='model', repo_id='Sharpaxis/Finance_DistilBERT_sentiment'), pr_revision=None, pr_num=None)"
      ]
     },
     "execution_count": 72,
     "metadata": {},
     "output_type": "execute_result"
    }
   ],
   "source": [
    "trainer_v2.push_to_hub(commit_message='done')"
   ]
  },
  {
   "cell_type": "code",
   "execution_count": 73,
   "id": "ed607c1a",
   "metadata": {},
   "outputs": [
    {
     "data": {
      "application/vnd.jupyter.widget-view+json": {
       "model_id": "",
       "version_major": 2,
       "version_minor": 0
      },
      "text/plain": [
       "README.md:   0%|          | 0.00/1.91k [00:00<?, ?B/s]"
      ]
     },
     "metadata": {},
     "output_type": "display_data"
    },
    {
     "data": {
      "text/plain": [
       "CommitInfo(commit_url='https://huggingface.co/Sharpaxis/Finance_DistilBERT_sentiment/commit/047068ce20900348bef88befedfcba5b55296cb3', commit_message='Upload tokenizer', commit_description='', oid='047068ce20900348bef88befedfcba5b55296cb3', pr_url=None, repo_url=RepoUrl('https://huggingface.co/Sharpaxis/Finance_DistilBERT_sentiment', endpoint='https://huggingface.co', repo_type='model', repo_id='Sharpaxis/Finance_DistilBERT_sentiment'), pr_revision=None, pr_num=None)"
      ]
     },
     "execution_count": 73,
     "metadata": {},
     "output_type": "execute_result"
    }
   ],
   "source": [
    "tokenizer.push_to_hub(repo_id='Sharpaxis/Finance_DistilBERT_sentiment')"
   ]
  },
  {
   "cell_type": "markdown",
   "id": "32ee6804",
   "metadata": {},
   "source": [
    "# Iteration 3"
   ]
  },
  {
   "cell_type": "code",
   "execution_count": 45,
   "id": "a8cea66d",
   "metadata": {},
   "outputs": [],
   "source": [
    "trainer_v3 = Trainer(model=model_3,\n",
    "                 args=training_args_v3,\n",
    "                 compute_metrics=compute_metrics,\n",
    "                 train_dataset=news_sent['train'],\n",
    "                 eval_dataset=news_sent['test'])"
   ]
  },
  {
   "cell_type": "code",
   "execution_count": null,
   "id": "44e5452d",
   "metadata": {},
   "outputs": [],
   "source": [
    "trainer_v3.train()"
   ]
  },
  {
   "cell_type": "code",
   "execution_count": null,
   "id": "272db9ea",
   "metadata": {},
   "outputs": [],
   "source": []
  }
 ],
 "metadata": {
  "kernelspec": {
   "display_name": "Python 3 (ipykernel)",
   "language": "python",
   "name": "python3"
  },
  "language_info": {
   "codemirror_mode": {
    "name": "ipython",
    "version": 3
   },
   "file_extension": ".py",
   "mimetype": "text/x-python",
   "name": "python",
   "nbconvert_exporter": "python",
   "pygments_lexer": "ipython3",
   "version": "3.10.15"
  }
 },
 "nbformat": 4,
 "nbformat_minor": 5
}
