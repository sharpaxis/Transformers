{
 "cells": [
  {
   "cell_type": "code",
   "execution_count": 40,
   "id": "ec314998",
   "metadata": {},
   "outputs": [],
   "source": [
    "#basic imports\n",
    "import numpy as np\n",
    "import pandas as pd\n",
    "import matplotlib.pyplot as plt\n",
    "import seaborn as sns\n",
    "import torch\n",
    "import torch.nn as nn\n",
    "import torch.nn.functional as F\n",
    "import datasets\n",
    "import transformers\n",
    "from tqdm import tqdm_notebook\n",
    "import warnings\n",
    "warnings.filterwarnings('ignore')\n",
    "device = torch.device(\"mps\")\n",
    "from sklearn.metrics import f1_score,accuracy_score,classification_report,confusion_matrix"
   ]
  },
  {
   "cell_type": "markdown",
   "id": "6eaa7387",
   "metadata": {},
   "source": [
    "### Import dataset from hugging face"
   ]
  },
  {
   "cell_type": "code",
   "execution_count": 2,
   "id": "a4e410b6",
   "metadata": {},
   "outputs": [],
   "source": [
    "#using load_dataset()\n",
    "emotions = datasets.load_dataset('emotion')"
   ]
  },
  {
   "cell_type": "code",
   "execution_count": 3,
   "id": "31345428",
   "metadata": {},
   "outputs": [
    {
     "data": {
      "text/plain": [
       "DatasetDict({\n",
       "    train: Dataset({\n",
       "        features: ['text', 'label'],\n",
       "        num_rows: 16000\n",
       "    })\n",
       "    validation: Dataset({\n",
       "        features: ['text', 'label'],\n",
       "        num_rows: 2000\n",
       "    })\n",
       "    test: Dataset({\n",
       "        features: ['text', 'label'],\n",
       "        num_rows: 2000\n",
       "    })\n",
       "})"
      ]
     },
     "execution_count": 3,
     "metadata": {},
     "output_type": "execute_result"
    }
   ],
   "source": [
    "emotions"
   ]
  },
  {
   "cell_type": "code",
   "execution_count": 4,
   "id": "3502005e",
   "metadata": {},
   "outputs": [
    {
     "data": {
      "text/plain": [
       "{'text': 'i didnt feel humiliated', 'label': 0}"
      ]
     },
     "execution_count": 4,
     "metadata": {},
     "output_type": "execute_result"
    }
   ],
   "source": [
    "#sample\n",
    "emotions['train'][0]"
   ]
  },
  {
   "cell_type": "markdown",
   "id": "af357da2",
   "metadata": {},
   "source": [
    "### Explore dataset"
   ]
  },
  {
   "cell_type": "code",
   "execution_count": 5,
   "id": "0e781ccd",
   "metadata": {},
   "outputs": [],
   "source": [
    "# setting format of dataset as pandas for exploration\n",
    "emotions.set_format('pandas')"
   ]
  },
  {
   "cell_type": "code",
   "execution_count": 6,
   "id": "b7d7130d",
   "metadata": {},
   "outputs": [],
   "source": [
    "df = emotions['train'][:]"
   ]
  },
  {
   "cell_type": "code",
   "execution_count": 7,
   "id": "2a6635bb",
   "metadata": {},
   "outputs": [
    {
     "data": {
      "text/html": [
       "<div>\n",
       "<style scoped>\n",
       "    .dataframe tbody tr th:only-of-type {\n",
       "        vertical-align: middle;\n",
       "    }\n",
       "\n",
       "    .dataframe tbody tr th {\n",
       "        vertical-align: top;\n",
       "    }\n",
       "\n",
       "    .dataframe thead th {\n",
       "        text-align: right;\n",
       "    }\n",
       "</style>\n",
       "<table border=\"1\" class=\"dataframe\">\n",
       "  <thead>\n",
       "    <tr style=\"text-align: right;\">\n",
       "      <th></th>\n",
       "      <th>text</th>\n",
       "      <th>label</th>\n",
       "    </tr>\n",
       "  </thead>\n",
       "  <tbody>\n",
       "    <tr>\n",
       "      <th>0</th>\n",
       "      <td>i didnt feel humiliated</td>\n",
       "      <td>0</td>\n",
       "    </tr>\n",
       "    <tr>\n",
       "      <th>1</th>\n",
       "      <td>i can go from feeling so hopeless to so damned...</td>\n",
       "      <td>0</td>\n",
       "    </tr>\n",
       "    <tr>\n",
       "      <th>2</th>\n",
       "      <td>im grabbing a minute to post i feel greedy wrong</td>\n",
       "      <td>3</td>\n",
       "    </tr>\n",
       "    <tr>\n",
       "      <th>3</th>\n",
       "      <td>i am ever feeling nostalgic about the fireplac...</td>\n",
       "      <td>2</td>\n",
       "    </tr>\n",
       "    <tr>\n",
       "      <th>4</th>\n",
       "      <td>i am feeling grouchy</td>\n",
       "      <td>3</td>\n",
       "    </tr>\n",
       "  </tbody>\n",
       "</table>\n",
       "</div>"
      ],
      "text/plain": [
       "                                                text  label\n",
       "0                            i didnt feel humiliated      0\n",
       "1  i can go from feeling so hopeless to so damned...      0\n",
       "2   im grabbing a minute to post i feel greedy wrong      3\n",
       "3  i am ever feeling nostalgic about the fireplac...      2\n",
       "4                               i am feeling grouchy      3"
      ]
     },
     "execution_count": 7,
     "metadata": {},
     "output_type": "execute_result"
    }
   ],
   "source": [
    "df.head()"
   ]
  },
  {
   "cell_type": "code",
   "execution_count": 8,
   "id": "c20caf16",
   "metadata": {},
   "outputs": [],
   "source": [
    "#convert the labels into strings\n",
    "def int2str_label(row):\n",
    "    return emotions['train'].features['label'].int2str(row)"
   ]
  },
  {
   "cell_type": "code",
   "execution_count": 9,
   "id": "a2a2056a",
   "metadata": {},
   "outputs": [],
   "source": [
    "df['emotion'] = df['label'].apply(int2str_label)"
   ]
  },
  {
   "cell_type": "code",
   "execution_count": 10,
   "id": "2b886f18",
   "metadata": {},
   "outputs": [
    {
     "data": {
      "text/html": [
       "<div>\n",
       "<style scoped>\n",
       "    .dataframe tbody tr th:only-of-type {\n",
       "        vertical-align: middle;\n",
       "    }\n",
       "\n",
       "    .dataframe tbody tr th {\n",
       "        vertical-align: top;\n",
       "    }\n",
       "\n",
       "    .dataframe thead th {\n",
       "        text-align: right;\n",
       "    }\n",
       "</style>\n",
       "<table border=\"1\" class=\"dataframe\">\n",
       "  <thead>\n",
       "    <tr style=\"text-align: right;\">\n",
       "      <th></th>\n",
       "      <th>text</th>\n",
       "      <th>label</th>\n",
       "      <th>emotion</th>\n",
       "    </tr>\n",
       "  </thead>\n",
       "  <tbody>\n",
       "    <tr>\n",
       "      <th>0</th>\n",
       "      <td>i didnt feel humiliated</td>\n",
       "      <td>0</td>\n",
       "      <td>sadness</td>\n",
       "    </tr>\n",
       "    <tr>\n",
       "      <th>1</th>\n",
       "      <td>i can go from feeling so hopeless to so damned...</td>\n",
       "      <td>0</td>\n",
       "      <td>sadness</td>\n",
       "    </tr>\n",
       "    <tr>\n",
       "      <th>2</th>\n",
       "      <td>im grabbing a minute to post i feel greedy wrong</td>\n",
       "      <td>3</td>\n",
       "      <td>anger</td>\n",
       "    </tr>\n",
       "    <tr>\n",
       "      <th>3</th>\n",
       "      <td>i am ever feeling nostalgic about the fireplac...</td>\n",
       "      <td>2</td>\n",
       "      <td>love</td>\n",
       "    </tr>\n",
       "    <tr>\n",
       "      <th>4</th>\n",
       "      <td>i am feeling grouchy</td>\n",
       "      <td>3</td>\n",
       "      <td>anger</td>\n",
       "    </tr>\n",
       "  </tbody>\n",
       "</table>\n",
       "</div>"
      ],
      "text/plain": [
       "                                                text  label  emotion\n",
       "0                            i didnt feel humiliated      0  sadness\n",
       "1  i can go from feeling so hopeless to so damned...      0  sadness\n",
       "2   im grabbing a minute to post i feel greedy wrong      3    anger\n",
       "3  i am ever feeling nostalgic about the fireplac...      2     love\n",
       "4                               i am feeling grouchy      3    anger"
      ]
     },
     "execution_count": 10,
     "metadata": {},
     "output_type": "execute_result"
    }
   ],
   "source": [
    "df.head()"
   ]
  },
  {
   "cell_type": "code",
   "execution_count": 11,
   "id": "83467df6",
   "metadata": {},
   "outputs": [
    {
     "data": {
      "image/png": "[encoded data removed]",
      "text/plain": [
       "<Figure size 600x600 with 1 Axes>"
      ]
     },
     "metadata": {},
     "output_type": "display_data"
    }
   ],
   "source": [
    "%matplotlib inline\n",
    "sns.set_style('white')\n",
    "plt.figure(figsize=(6,6))\n",
    "sns.countplot(x='emotion',data=df,palette='viridis')\n",
    "plt.title('Distribution of Emotions')\n",
    "plt.show()"
   ]
  },
  {
   "cell_type": "code",
   "execution_count": 12,
   "id": "3cefebe1",
   "metadata": {},
   "outputs": [],
   "source": [
    "df['wrd_len'] = df['text'].str.split().apply(len)"
   ]
  },
  {
   "cell_type": "code",
   "execution_count": 13,
   "id": "98dba61e",
   "metadata": {},
   "outputs": [
    {
     "data": {
      "image/png": "[encoded data removed]",
      "text/plain": [
       "<Figure size 1000x800 with 1 Axes>"
      ]
     },
     "metadata": {},
     "output_type": "display_data"
    }
   ],
   "source": [
    "plt.figure(figsize=(10,8))\n",
    "sns.boxplot(y='wrd_len',data=df,palette='Blues',hue='emotion',saturation=0.9,gap=0.15,width=0.9,linewidth=1.5)\n",
    "plt.legend(bbox_to_anchor=(1.05, 1), loc=2, borderaxespad=0.)\n",
    "plt.title('Length of Tweets')\n",
    "plt.show()"
   ]
  },
  {
   "cell_type": "code",
   "execution_count": 14,
   "id": "bce3a1dd",
   "metadata": {},
   "outputs": [],
   "source": [
    "#now we reset the format\n",
    "emotions.reset_format()"
   ]
  },
  {
   "cell_type": "code",
   "execution_count": 15,
   "id": "eefa8bb3",
   "metadata": {},
   "outputs": [
    {
     "data": {
      "text/plain": [
       "DatasetDict({\n",
       "    train: Dataset({\n",
       "        features: ['text', 'label'],\n",
       "        num_rows: 16000\n",
       "    })\n",
       "    validation: Dataset({\n",
       "        features: ['text', 'label'],\n",
       "        num_rows: 2000\n",
       "    })\n",
       "    test: Dataset({\n",
       "        features: ['text', 'label'],\n",
       "        num_rows: 2000\n",
       "    })\n",
       "})"
      ]
     },
     "execution_count": 15,
     "metadata": {},
     "output_type": "execute_result"
    }
   ],
   "source": [
    "emotions"
   ]
  },
  {
   "cell_type": "markdown",
   "id": "6f288282",
   "metadata": {},
   "source": [
    "### tokenizer"
   ]
  },
  {
   "cell_type": "code",
   "execution_count": 16,
   "id": "29a2c6aa",
   "metadata": {},
   "outputs": [],
   "source": [
    "#using autotokenizer\n",
    "#using distilberts tokenizer\n",
    "from transformers import AutoTokenizer\n",
    "model_ckpt = 'distilbert-base-uncased'\n",
    "tokenizer = AutoTokenizer.from_pretrained(model_ckpt)"
   ]
  },
  {
   "cell_type": "code",
   "execution_count": 17,
   "id": "89513bd1",
   "metadata": {},
   "outputs": [
    {
     "data": {
      "text/plain": [
       "DistilBertTokenizerFast(name_or_path='distilbert-base-uncased', vocab_size=30522, model_max_length=512, is_fast=True, padding_side='right', truncation_side='right', special_tokens={'unk_token': '[UNK]', 'sep_token': '[SEP]', 'pad_token': '[PAD]', 'cls_token': '[CLS]', 'mask_token': '[MASK]'}, clean_up_tokenization_spaces=False),  added_tokens_decoder={\n",
       "\t0: AddedToken(\"[PAD]\", rstrip=False, lstrip=False, single_word=False, normalized=False, special=True),\n",
       "\t100: AddedToken(\"[UNK]\", rstrip=False, lstrip=False, single_word=False, normalized=False, special=True),\n",
       "\t101: AddedToken(\"[CLS]\", rstrip=False, lstrip=False, single_word=False, normalized=False, special=True),\n",
       "\t102: AddedToken(\"[SEP]\", rstrip=False, lstrip=False, single_word=False, normalized=False, special=True),\n",
       "\t103: AddedToken(\"[MASK]\", rstrip=False, lstrip=False, single_word=False, normalized=False, special=True),\n",
       "}"
      ]
     },
     "execution_count": 17,
     "metadata": {},
     "output_type": "execute_result"
    }
   ],
   "source": [
    "tokenizer"
   ]
  },
  {
   "cell_type": "code",
   "execution_count": 18,
   "id": "bce8b94a",
   "metadata": {},
   "outputs": [],
   "source": [
    "#testing\n",
    "text = \"this is a text for tokenizer to convert or encode\"\n",
    "out = tokenizer(text)\n",
    "#tokenizer returns a dict of input ids as well as attention_mask"
   ]
  },
  {
   "cell_type": "code",
   "execution_count": 19,
   "id": "06382e16",
   "metadata": {},
   "outputs": [
    {
     "data": {
      "text/plain": [
       "{'input_ids': [101, 2023, 2003, 1037, 3793, 2005, 19204, 17629, 2000, 10463, 2030, 4372, 16044, 102], 'attention_mask': [1, 1, 1, 1, 1, 1, 1, 1, 1, 1, 1, 1, 1, 1]}"
      ]
     },
     "execution_count": 19,
     "metadata": {},
     "output_type": "execute_result"
    }
   ],
   "source": [
    "out"
   ]
  },
  {
   "cell_type": "code",
   "execution_count": 20,
   "id": "c398340d",
   "metadata": {},
   "outputs": [
    {
     "data": {
      "text/plain": [
       "['[CLS]',\n",
       " 'this',\n",
       " 'is',\n",
       " 'a',\n",
       " 'text',\n",
       " 'for',\n",
       " 'token',\n",
       " '##izer',\n",
       " 'to',\n",
       " 'convert',\n",
       " 'or',\n",
       " 'en',\n",
       " '##code',\n",
       " '[SEP]']"
      ]
     },
     "execution_count": 20,
     "metadata": {},
     "output_type": "execute_result"
    }
   ],
   "source": [
    "input_ids = out.input_ids\n",
    "tokenizer.convert_ids_to_tokens(input_ids)"
   ]
  },
  {
   "cell_type": "markdown",
   "id": "78d46b81",
   "metadata": {},
   "source": [
    "### tokenizing whole dataset"
   ]
  },
  {
   "cell_type": "code",
   "execution_count": 21,
   "id": "fb09a940",
   "metadata": {},
   "outputs": [],
   "source": [
    "#using map\n",
    "def apply_tokenizer(batch):\n",
    "    return tokenizer(batch['text'],padding=True,truncation=True)"
   ]
  },
  {
   "cell_type": "code",
   "execution_count": 22,
   "id": "bf87118c",
   "metadata": {},
   "outputs": [],
   "source": [
    "#create new dataset containing encoded text or tokenized text\n",
    "emotions_encoded = emotions.map(apply_tokenizer,batched=True,batch_size=None)"
   ]
  },
  {
   "cell_type": "code",
   "execution_count": 23,
   "id": "a5d59147",
   "metadata": {},
   "outputs": [
    {
     "name": "stdout",
     "output_type": "stream",
     "text": [
      "{'text': 'i can go from feeling so hopeless to so damned hopeful just from being around someone who cares and is awake', 'label': 0, 'input_ids': [101, 1045, 2064, 2175, 2013, 3110, 2061, 20625, 2000, 2061, 9636, 17772, 2074, 2013, 2108, 2105, 2619, 2040, 14977, 1998, 2003, 8300, 102, 0, 0, 0, 0, 0, 0, 0, 0, 0, 0, 0, 0, 0, 0, 0, 0, 0, 0, 0, 0, 0, 0, 0, 0, 0, 0, 0, 0, 0, 0, 0, 0, 0, 0, 0, 0, 0, 0, 0, 0, 0, 0, 0, 0, 0, 0, 0, 0, 0, 0, 0, 0, 0, 0, 0, 0, 0, 0, 0, 0, 0, 0, 0, 0], 'attention_mask': [1, 1, 1, 1, 1, 1, 1, 1, 1, 1, 1, 1, 1, 1, 1, 1, 1, 1, 1, 1, 1, 1, 1, 0, 0, 0, 0, 0, 0, 0, 0, 0, 0, 0, 0, 0, 0, 0, 0, 0, 0, 0, 0, 0, 0, 0, 0, 0, 0, 0, 0, 0, 0, 0, 0, 0, 0, 0, 0, 0, 0, 0, 0, 0, 0, 0, 0, 0, 0, 0, 0, 0, 0, 0, 0, 0, 0, 0, 0, 0, 0, 0, 0, 0, 0, 0, 0]}\n"
     ]
    }
   ],
   "source": [
    "#notice attention mask for padding is 0, essentially telling model to \"ignore\" it\n",
    "print(emotions_encoded['train'][1])"
   ]
  },
  {
   "cell_type": "markdown",
   "id": "33567bf1",
   "metadata": {},
   "source": [
    "### Set format of dataset to tensors"
   ]
  },
  {
   "cell_type": "code",
   "execution_count": 24,
   "id": "dc1aa36f",
   "metadata": {},
   "outputs": [],
   "source": [
    "emotions_encoded.set_format(type=\"pt\",columns=['input_ids','attention_mask','label'])"
   ]
  },
  {
   "cell_type": "code",
   "execution_count": 25,
   "id": "09399bed",
   "metadata": {},
   "outputs": [
    {
     "name": "stdout",
     "output_type": "stream",
     "text": [
      "{'label': tensor(0), 'input_ids': tensor([  101,  1045,  2064,  2175,  2013,  3110,  2061, 20625,  2000,  2061,\n",
      "         9636, 17772,  2074,  2013,  2108,  2105,  2619,  2040, 14977,  1998,\n",
      "         2003,  8300,   102,     0,     0,     0,     0,     0,     0,     0,\n",
      "            0,     0,     0,     0,     0,     0,     0,     0,     0,     0,\n",
      "            0,     0,     0,     0,     0,     0,     0,     0,     0,     0,\n",
      "            0,     0,     0,     0,     0,     0,     0,     0,     0,     0,\n",
      "            0,     0,     0,     0,     0,     0,     0,     0,     0,     0,\n",
      "            0,     0,     0,     0,     0,     0,     0,     0,     0,     0,\n",
      "            0,     0,     0,     0,     0,     0,     0]), 'attention_mask': tensor([1, 1, 1, 1, 1, 1, 1, 1, 1, 1, 1, 1, 1, 1, 1, 1, 1, 1, 1, 1, 1, 1, 1, 0,\n",
      "        0, 0, 0, 0, 0, 0, 0, 0, 0, 0, 0, 0, 0, 0, 0, 0, 0, 0, 0, 0, 0, 0, 0, 0,\n",
      "        0, 0, 0, 0, 0, 0, 0, 0, 0, 0, 0, 0, 0, 0, 0, 0, 0, 0, 0, 0, 0, 0, 0, 0,\n",
      "        0, 0, 0, 0, 0, 0, 0, 0, 0, 0, 0, 0, 0, 0, 0])}\n"
     ]
    }
   ],
   "source": [
    "print(emotions_encoded['train'][1])"
   ]
  },
  {
   "cell_type": "markdown",
   "id": "b622511e",
   "metadata": {},
   "source": [
    "### Importing model from HF"
   ]
  },
  {
   "cell_type": "code",
   "execution_count": 26,
   "id": "e5d4ff03",
   "metadata": {},
   "outputs": [
    {
     "name": "stderr",
     "output_type": "stream",
     "text": [
      "Some weights of DistilBertForSequenceClassification were not initialized from the model checkpoint at distilbert-base-uncased and are newly initialized: ['classifier.bias', 'classifier.weight', 'pre_classifier.bias', 'pre_classifier.weight']\n",
      "You should probably TRAIN this model on a down-stream task to be able to use it for predictions and inference.\n"
     ]
    }
   ],
   "source": [
    "#this auto model adds a classification head to the pre trained model\n",
    "from transformers import AutoModelForSequenceClassification\n",
    "num_labels = 6\n",
    "model = (AutoModelForSequenceClassification.from_pretrained(model_ckpt,num_labels=num_labels).to(device))"
   ]
  },
  {
   "cell_type": "code",
   "execution_count": 27,
   "id": "92526657",
   "metadata": {},
   "outputs": [
    {
     "data": {
      "text/plain": [
       "DistilBertForSequenceClassification(\n",
       "  (distilbert): DistilBertModel(\n",
       "    (embeddings): Embeddings(\n",
       "      (word_embeddings): Embedding(30522, 768, padding_idx=0)\n",
       "      (position_embeddings): Embedding(512, 768)\n",
       "      (LayerNorm): LayerNorm((768,), eps=1e-12, elementwise_affine=True)\n",
       "      (dropout): Dropout(p=0.1, inplace=False)\n",
       "    )\n",
       "    (transformer): Transformer(\n",
       "      (layer): ModuleList(\n",
       "        (0-5): 6 x TransformerBlock(\n",
       "          (attention): DistilBertSdpaAttention(\n",
       "            (dropout): Dropout(p=0.1, inplace=False)\n",
       "            (q_lin): Linear(in_features=768, out_features=768, bias=True)\n",
       "            (k_lin): Linear(in_features=768, out_features=768, bias=True)\n",
       "            (v_lin): Linear(in_features=768, out_features=768, bias=True)\n",
       "            (out_lin): Linear(in_features=768, out_features=768, bias=True)\n",
       "          )\n",
       "          (sa_layer_norm): LayerNorm((768,), eps=1e-12, elementwise_affine=True)\n",
       "          (ffn): FFN(\n",
       "            (dropout): Dropout(p=0.1, inplace=False)\n",
       "            (lin1): Linear(in_features=768, out_features=3072, bias=True)\n",
       "            (lin2): Linear(in_features=3072, out_features=768, bias=True)\n",
       "            (activation): GELUActivation()\n",
       "          )\n",
       "          (output_layer_norm): LayerNorm((768,), eps=1e-12, elementwise_affine=True)\n",
       "        )\n",
       "      )\n",
       "    )\n",
       "  )\n",
       "  (pre_classifier): Linear(in_features=768, out_features=768, bias=True)\n",
       "  (classifier): Linear(in_features=768, out_features=6, bias=True)\n",
       "  (dropout): Dropout(p=0.2, inplace=False)\n",
       ")"
      ]
     },
     "execution_count": 27,
     "metadata": {},
     "output_type": "execute_result"
    }
   ],
   "source": [
    "model"
   ]
  },
  {
   "cell_type": "markdown",
   "id": "148dac0b",
   "metadata": {},
   "source": [
    "### set metrics for training"
   ]
  },
  {
   "cell_type": "code",
   "execution_count": 28,
   "id": "11f1e5ef",
   "metadata": {},
   "outputs": [],
   "source": [
    "#set f1 and acc as metrics\n",
    "#it receives a pred object which has predictions and label_ids in namedtuple\n",
    "def compute_metrics(pred):\n",
    "    labels = pred.label_ids\n",
    "    preds = pred.predictions.argmax(-1)\n",
    "    f1 = f1_score(labels,preds,average='weighted')\n",
    "    acc = accuracy_score(labels,preds)\n",
    "    return {'f1':f1,'acc':acc}"
   ]
  },
  {
   "cell_type": "markdown",
   "id": "ab3d5a36",
   "metadata": {},
   "source": [
    "### Define hyperparamters for training"
   ]
  },
  {
   "cell_type": "code",
   "execution_count": 29,
   "id": "b22ef288",
   "metadata": {},
   "outputs": [],
   "source": [
    "#using TrainingAruguments module\n",
    "from transformers import TrainingArguments\n",
    "#define batch size for eval and train\n",
    "batch_size = 32\n",
    "#number of logging steps needed\n",
    "logging_steps = len(emotions['train'])//batch_size\n",
    "#set a dir for output\n",
    "model_name = 'Sentiment_tweets_distilbert'\n",
    "#set learning rate\n",
    "learning_rate=2e-5\n",
    "#set epochs\n",
    "num_epochs = 3\n",
    "#log level\n",
    "log_level = \"error\"\n",
    "#set weight decay values\n",
    "weight_decay = 0.01\n",
    "#create instance of Training Arguments\n",
    "training_args = TrainingArguments(output_dir=model_name,\n",
    "                                 per_device_train_batch_size=batch_size,\n",
    "                                 per_device_eval_batch_size=batch_size,\n",
    "                                 log_level=log_level,\n",
    "                                 logging_steps=logging_steps,\n",
    "                                 learning_rate=learning_rate,\n",
    "                                 weight_decay=weight_decay,\n",
    "                                 num_train_epochs=num_epochs,\n",
    "                                 push_to_hub=True,\n",
    "                                 disable_tqdm=False,\n",
    "                                 eval_strategy=\"epoch\")\n"
   ]
  },
  {
   "cell_type": "markdown",
   "id": "1dc11a16",
   "metadata": {},
   "source": [
    "### now define a Trainer"
   ]
  },
  {
   "cell_type": "code",
   "execution_count": 30,
   "id": "24bb0321",
   "metadata": {},
   "outputs": [
    {
     "data": {
      "application/vnd.jupyter.widget-view+json": {
       "model_id": "588c6cd27c4743eba99284607447db54",
       "version_major": 2,
       "version_minor": 0
      },
      "text/plain": [
       "VBox(children=(HTML(value='<center> <img\\nsrc=https://huggingface.co/front/assets/huggingface_logo-noborder.sv…"
      ]
     },
     "metadata": {},
     "output_type": "display_data"
    }
   ],
   "source": [
    "from huggingface_hub import notebook_login\n",
    "notebook_login()"
   ]
  },
  {
   "cell_type": "code",
   "execution_count": 31,
   "id": "894d4b49",
   "metadata": {},
   "outputs": [],
   "source": [
    "from transformers import Trainer\n",
    "trainer = Trainer(model=model,\n",
    "                 compute_metrics=compute_metrics,\n",
    "                 args=training_args,\n",
    "                 train_dataset=emotions_encoded['train'],\n",
    "                 eval_dataset=emotions_encoded['validation'],\n",
    "                 tokenizer=tokenizer)"
   ]
  },
  {
   "cell_type": "code",
   "execution_count": 32,
   "id": "4d2fc81e",
   "metadata": {},
   "outputs": [
    {
     "data": {
      "text/html": [
       "\n",
       "    <div>\n",
       "      \n",
       "      <progress value='1500' max='1500' style='width:300px; height:20px; vertical-align: middle;'></progress>\n",
       "      [1500/1500 07:00, Epoch 3/3]\n",
       "    </div>\n",
       "    <table border=\"1\" class=\"dataframe\">\n",
       "  <thead>\n",
       " <tr style=\"text-align: left;\">\n",
       "      <th>Epoch</th>\n",
       "      <th>Training Loss</th>\n",
       "      <th>Validation Loss</th>\n",
       "      <th>F1</th>\n",
       "      <th>Acc</th>\n",
       "    </tr>\n",
       "  </thead>\n",
       "  <tbody>\n",
       "    <tr>\n",
       "      <td>1</td>\n",
       "      <td>0.607600</td>\n",
       "      <td>0.224300</td>\n",
       "      <td>0.919172</td>\n",
       "      <td>0.918500</td>\n",
       "    </tr>\n",
       "    <tr>\n",
       "      <td>2</td>\n",
       "      <td>0.164100</td>\n",
       "      <td>0.168366</td>\n",
       "      <td>0.929703</td>\n",
       "      <td>0.930000</td>\n",
       "    </tr>\n",
       "    <tr>\n",
       "      <td>3</td>\n",
       "      <td>0.119500</td>\n",
       "      <td>0.152520</td>\n",
       "      <td>0.935851</td>\n",
       "      <td>0.936000</td>\n",
       "    </tr>\n",
       "  </tbody>\n",
       "</table><p>"
      ],
      "text/plain": [
       "<IPython.core.display.HTML object>"
      ]
     },
     "metadata": {},
     "output_type": "display_data"
    },
    {
     "data": {
      "text/plain": [
       "TrainOutput(global_step=1500, training_loss=0.29705032348632815, metrics={'train_runtime': 421.6451, 'train_samples_per_second': 113.84, 'train_steps_per_second': 3.557, 'total_flos': 1080514292544000.0, 'train_loss': 0.29705032348632815, 'epoch': 3.0})"
      ]
     },
     "execution_count": 32,
     "metadata": {},
     "output_type": "execute_result"
    }
   ],
   "source": [
    "trainer.train()"
   ]
  },
  {
   "cell_type": "code",
   "execution_count": 33,
   "id": "eb197fd6",
   "metadata": {},
   "outputs": [
    {
     "data": {
      "text/html": [],
      "text/plain": [
       "<IPython.core.display.HTML object>"
      ]
     },
     "metadata": {},
     "output_type": "display_data"
    }
   ],
   "source": [
    "y_val = trainer.predict(emotions_encoded['validation'])"
   ]
  },
  {
   "cell_type": "code",
   "execution_count": 37,
   "id": "18a5b949",
   "metadata": {},
   "outputs": [],
   "source": [
    "preds = np.argmax(y_val.predictions,axis=1)"
   ]
  },
  {
   "cell_type": "code",
   "execution_count": 39,
   "id": "e6980551",
   "metadata": {},
   "outputs": [],
   "source": [
    "labels = np.array(emotions_encoded['validation']['label'])"
   ]
  },
  {
   "cell_type": "code",
   "execution_count": 41,
   "id": "3a753ab1",
   "metadata": {},
   "outputs": [
    {
     "name": "stdout",
     "output_type": "stream",
     "text": [
      "              precision    recall  f1-score   support\n",
      "\n",
      "           0       0.96      0.96      0.96       550\n",
      "           1       0.95      0.95      0.95       704\n",
      "           2       0.88      0.87      0.87       178\n",
      "           3       0.94      0.94      0.94       275\n",
      "           4       0.87      0.92      0.89       212\n",
      "           5       0.93      0.79      0.85        81\n",
      "\n",
      "    accuracy                           0.94      2000\n",
      "   macro avg       0.92      0.91      0.91      2000\n",
      "weighted avg       0.94      0.94      0.94      2000\n",
      "\n"
     ]
    }
   ],
   "source": [
    "print(classification_report(labels,preds))"
   ]
  },
  {
   "cell_type": "code",
   "execution_count": 51,
   "id": "f955137b",
   "metadata": {},
   "outputs": [],
   "source": [
    "def forward_pass_with_labels(batch):\n",
    "    inputs = {k:v.to(device) for k,v in batch.items() if k in tokenizer.model_input_names}\n",
    "    with torch.no_grad():\n",
    "        output = model(**inputs)\n",
    "        pred_label = torch.argmax(output.logits,axis=-1)\n",
    "        loss = F.cross_entropy(output.logits,batch['label'].to(device),reduction=\"none\")\n",
    "    return {'loss':loss.cpu().numpy(),\"prediction_label\":pred_label.cpu().numpy()}"
   ]
  },
  {
   "cell_type": "code",
   "execution_count": 52,
   "id": "f1a9b92c",
   "metadata": {},
   "outputs": [],
   "source": [
    "emotions_encoded.set_format(\"torch\",columns=['input_ids','attention_mask','label'])"
   ]
  },
  {
   "cell_type": "code",
   "execution_count": 53,
   "id": "ba834492",
   "metadata": {},
   "outputs": [
    {
     "data": {
      "application/vnd.jupyter.widget-view+json": {
       "model_id": "eff9cf4611ab4ec28ce48efe113e9a71",
       "version_major": 2,
       "version_minor": 0
      },
      "text/plain": [
       "Map:   0%|          | 0/2000 [00:00<?, ? examples/s]"
      ]
     },
     "metadata": {},
     "output_type": "display_data"
    }
   ],
   "source": [
    "emotions_encoded['validation'] = emotions_encoded['validation'].map(forward_pass_with_labels,\n",
    "                                                                   batched=True,batch_size=4)"
   ]
  },
  {
   "cell_type": "code",
   "execution_count": 54,
   "id": "2a3f64fe",
   "metadata": {},
   "outputs": [],
   "source": [
    "emotions_encoded.set_format(\"pandas\")"
   ]
  },
  {
   "cell_type": "code",
   "execution_count": 57,
   "id": "1feec927",
   "metadata": {},
   "outputs": [],
   "source": [
    "cols = ['text','label','prediction_label','loss']"
   ]
  },
  {
   "cell_type": "code",
   "execution_count": 58,
   "id": "96e3d54d",
   "metadata": {},
   "outputs": [],
   "source": [
    "df_test = emotions_encoded['validation'][:][cols]"
   ]
  },
  {
   "cell_type": "code",
   "execution_count": 59,
   "id": "d9b76782",
   "metadata": {},
   "outputs": [],
   "source": [
    "df_test['label'] = df_test['label'].apply(int2str_label)"
   ]
  },
  {
   "cell_type": "code",
   "execution_count": 60,
   "id": "63cd6026",
   "metadata": {},
   "outputs": [],
   "source": [
    "df_test['prediction_label'] = df_test['prediction_label'].apply(int2str_label)"
   ]
  },
  {
   "cell_type": "code",
   "execution_count": 64,
   "id": "303aa6d8",
   "metadata": {},
   "outputs": [
    {
     "data": {
      "text/html": [
       "<div>\n",
       "<style scoped>\n",
       "    .dataframe tbody tr th:only-of-type {\n",
       "        vertical-align: middle;\n",
       "    }\n",
       "\n",
       "    .dataframe tbody tr th {\n",
       "        vertical-align: top;\n",
       "    }\n",
       "\n",
       "    .dataframe thead th {\n",
       "        text-align: right;\n",
       "    }\n",
       "</style>\n",
       "<table border=\"1\" class=\"dataframe\">\n",
       "  <thead>\n",
       "    <tr style=\"text-align: right;\">\n",
       "      <th></th>\n",
       "      <th>text</th>\n",
       "      <th>label</th>\n",
       "      <th>prediction_label</th>\n",
       "      <th>loss</th>\n",
       "    </tr>\n",
       "  </thead>\n",
       "  <tbody>\n",
       "    <tr>\n",
       "      <th>1950</th>\n",
       "      <td>i as representative of everything thats wrong ...</td>\n",
       "      <td>surprise</td>\n",
       "      <td>sadness</td>\n",
       "      <td>7.100559</td>\n",
       "    </tr>\n",
       "    <tr>\n",
       "      <th>1111</th>\n",
       "      <td>im lazy my characters fall into categories of ...</td>\n",
       "      <td>joy</td>\n",
       "      <td>fear</td>\n",
       "      <td>6.815245</td>\n",
       "    </tr>\n",
       "    <tr>\n",
       "      <th>1963</th>\n",
       "      <td>i called myself pro life and voted for perry w...</td>\n",
       "      <td>joy</td>\n",
       "      <td>sadness</td>\n",
       "      <td>6.555830</td>\n",
       "    </tr>\n",
       "    <tr>\n",
       "      <th>1500</th>\n",
       "      <td>i guess we would naturally feel a sense of lon...</td>\n",
       "      <td>anger</td>\n",
       "      <td>sadness</td>\n",
       "      <td>6.553863</td>\n",
       "    </tr>\n",
       "    <tr>\n",
       "      <th>177</th>\n",
       "      <td>im sure much of the advantage is psychological...</td>\n",
       "      <td>sadness</td>\n",
       "      <td>joy</td>\n",
       "      <td>6.423048</td>\n",
       "    </tr>\n",
       "    <tr>\n",
       "      <th>405</th>\n",
       "      <td>i have been feeling extraordinarily indecisive...</td>\n",
       "      <td>fear</td>\n",
       "      <td>joy</td>\n",
       "      <td>5.483036</td>\n",
       "    </tr>\n",
       "    <tr>\n",
       "      <th>1870</th>\n",
       "      <td>i guess i feel betrayed because i admired him ...</td>\n",
       "      <td>joy</td>\n",
       "      <td>sadness</td>\n",
       "      <td>5.381291</td>\n",
       "    </tr>\n",
       "    <tr>\n",
       "      <th>1840</th>\n",
       "      <td>id let you kill it now but as a matter of fact...</td>\n",
       "      <td>joy</td>\n",
       "      <td>fear</td>\n",
       "      <td>5.200083</td>\n",
       "    </tr>\n",
       "    <tr>\n",
       "      <th>1801</th>\n",
       "      <td>i feel that he was being overshadowed by the s...</td>\n",
       "      <td>love</td>\n",
       "      <td>sadness</td>\n",
       "      <td>5.095189</td>\n",
       "    </tr>\n",
       "    <tr>\n",
       "      <th>292</th>\n",
       "      <td>i can say is that i feel like myself when i pu...</td>\n",
       "      <td>love</td>\n",
       "      <td>joy</td>\n",
       "      <td>4.692630</td>\n",
       "    </tr>\n",
       "    <tr>\n",
       "      <th>1683</th>\n",
       "      <td>i had applied for a job and they had assured m...</td>\n",
       "      <td>anger</td>\n",
       "      <td>joy</td>\n",
       "      <td>4.261370</td>\n",
       "    </tr>\n",
       "    <tr>\n",
       "      <th>860</th>\n",
       "      <td>i first had cordelia i didnt feel a strong urg...</td>\n",
       "      <td>joy</td>\n",
       "      <td>fear</td>\n",
       "      <td>4.144111</td>\n",
       "    </tr>\n",
       "    <tr>\n",
       "      <th>318</th>\n",
       "      <td>i felt ashamed of these feelings and was scare...</td>\n",
       "      <td>fear</td>\n",
       "      <td>sadness</td>\n",
       "      <td>4.066448</td>\n",
       "    </tr>\n",
       "    <tr>\n",
       "      <th>1919</th>\n",
       "      <td>i should admit when consuming alcohol myself i...</td>\n",
       "      <td>fear</td>\n",
       "      <td>sadness</td>\n",
       "      <td>3.915658</td>\n",
       "    </tr>\n",
       "    <tr>\n",
       "      <th>1836</th>\n",
       "      <td>i got a very nasty electrical shock when i was...</td>\n",
       "      <td>fear</td>\n",
       "      <td>anger</td>\n",
       "      <td>3.756094</td>\n",
       "    </tr>\n",
       "  </tbody>\n",
       "</table>\n",
       "</div>"
      ],
      "text/plain": [
       "                                                   text     label  \\\n",
       "1950  i as representative of everything thats wrong ...  surprise   \n",
       "1111  im lazy my characters fall into categories of ...       joy   \n",
       "1963  i called myself pro life and voted for perry w...       joy   \n",
       "1500  i guess we would naturally feel a sense of lon...     anger   \n",
       "177   im sure much of the advantage is psychological...   sadness   \n",
       "405   i have been feeling extraordinarily indecisive...      fear   \n",
       "1870  i guess i feel betrayed because i admired him ...       joy   \n",
       "1840  id let you kill it now but as a matter of fact...       joy   \n",
       "1801  i feel that he was being overshadowed by the s...      love   \n",
       "292   i can say is that i feel like myself when i pu...      love   \n",
       "1683  i had applied for a job and they had assured m...     anger   \n",
       "860   i first had cordelia i didnt feel a strong urg...       joy   \n",
       "318   i felt ashamed of these feelings and was scare...      fear   \n",
       "1919  i should admit when consuming alcohol myself i...      fear   \n",
       "1836  i got a very nasty electrical shock when i was...      fear   \n",
       "\n",
       "     prediction_label      loss  \n",
       "1950          sadness  7.100559  \n",
       "1111             fear  6.815245  \n",
       "1963          sadness  6.555830  \n",
       "1500          sadness  6.553863  \n",
       "177               joy  6.423048  \n",
       "405               joy  5.483036  \n",
       "1870          sadness  5.381291  \n",
       "1840             fear  5.200083  \n",
       "1801          sadness  5.095189  \n",
       "292               joy  4.692630  \n",
       "1683              joy  4.261370  \n",
       "860              fear  4.144111  \n",
       "318           sadness  4.066448  \n",
       "1919          sadness  3.915658  \n",
       "1836            anger  3.756094  "
      ]
     },
     "execution_count": 64,
     "metadata": {},
     "output_type": "execute_result"
    }
   ],
   "source": [
    "df_test.sort_values('loss',ascending=False).head(15)"
   ]
  },
  {
   "cell_type": "code",
   "execution_count": 66,
   "id": "da814bb7",
   "metadata": {},
   "outputs": [
    {
     "data": {
      "text/html": [
       "<div>\n",
       "<style scoped>\n",
       "    .dataframe tbody tr th:only-of-type {\n",
       "        vertical-align: middle;\n",
       "    }\n",
       "\n",
       "    .dataframe tbody tr th {\n",
       "        vertical-align: top;\n",
       "    }\n",
       "\n",
       "    .dataframe thead th {\n",
       "        text-align: right;\n",
       "    }\n",
       "</style>\n",
       "<table border=\"1\" class=\"dataframe\">\n",
       "  <thead>\n",
       "    <tr style=\"text-align: right;\">\n",
       "      <th></th>\n",
       "      <th>text</th>\n",
       "      <th>label</th>\n",
       "      <th>prediction_label</th>\n",
       "      <th>loss</th>\n",
       "    </tr>\n",
       "  </thead>\n",
       "  <tbody>\n",
       "    <tr>\n",
       "      <th>21</th>\n",
       "      <td>i feel try to tell me im ungrateful tell me im...</td>\n",
       "      <td>sadness</td>\n",
       "      <td>sadness</td>\n",
       "      <td>0.002866</td>\n",
       "    </tr>\n",
       "    <tr>\n",
       "      <th>69</th>\n",
       "      <td>i have no extra money im worried all of the ti...</td>\n",
       "      <td>sadness</td>\n",
       "      <td>sadness</td>\n",
       "      <td>0.002900</td>\n",
       "    </tr>\n",
       "    <tr>\n",
       "      <th>1466</th>\n",
       "      <td>i feel so ungrateful to be wishing this pregna...</td>\n",
       "      <td>sadness</td>\n",
       "      <td>sadness</td>\n",
       "      <td>0.002915</td>\n",
       "    </tr>\n",
       "    <tr>\n",
       "      <th>133</th>\n",
       "      <td>i and feel quite ungrateful for it but i m loo...</td>\n",
       "      <td>sadness</td>\n",
       "      <td>sadness</td>\n",
       "      <td>0.002925</td>\n",
       "    </tr>\n",
       "    <tr>\n",
       "      <th>1502</th>\n",
       "      <td>i feel ungrateful for stupid shit like</td>\n",
       "      <td>sadness</td>\n",
       "      <td>sadness</td>\n",
       "      <td>0.002945</td>\n",
       "    </tr>\n",
       "    <tr>\n",
       "      <th>1310</th>\n",
       "      <td>i feel like an ungrateful asshole</td>\n",
       "      <td>sadness</td>\n",
       "      <td>sadness</td>\n",
       "      <td>0.002947</td>\n",
       "    </tr>\n",
       "    <tr>\n",
       "      <th>1531</th>\n",
       "      <td>i forgive stanley hes not so quick to forgive ...</td>\n",
       "      <td>sadness</td>\n",
       "      <td>sadness</td>\n",
       "      <td>0.002971</td>\n",
       "    </tr>\n",
       "    <tr>\n",
       "      <th>76</th>\n",
       "      <td>i feel like im an unwelcome presence whenever ...</td>\n",
       "      <td>sadness</td>\n",
       "      <td>sadness</td>\n",
       "      <td>0.002974</td>\n",
       "    </tr>\n",
       "    <tr>\n",
       "      <th>267</th>\n",
       "      <td>i feel like im alone in missing him and becaus...</td>\n",
       "      <td>sadness</td>\n",
       "      <td>sadness</td>\n",
       "      <td>0.002987</td>\n",
       "    </tr>\n",
       "    <tr>\n",
       "      <th>1886</th>\n",
       "      <td>i feel unloved and know im hated</td>\n",
       "      <td>sadness</td>\n",
       "      <td>sadness</td>\n",
       "      <td>0.002989</td>\n",
       "    </tr>\n",
       "    <tr>\n",
       "      <th>375</th>\n",
       "      <td>i mention that i feel really unwelcome</td>\n",
       "      <td>sadness</td>\n",
       "      <td>sadness</td>\n",
       "      <td>0.003007</td>\n",
       "    </tr>\n",
       "    <tr>\n",
       "      <th>392</th>\n",
       "      <td>i remember feeling disheartened one day when w...</td>\n",
       "      <td>sadness</td>\n",
       "      <td>sadness</td>\n",
       "      <td>0.003007</td>\n",
       "    </tr>\n",
       "    <tr>\n",
       "      <th>1041</th>\n",
       "      <td>i suppose it all goes along with feeling unwel...</td>\n",
       "      <td>sadness</td>\n",
       "      <td>sadness</td>\n",
       "      <td>0.003017</td>\n",
       "    </tr>\n",
       "    <tr>\n",
       "      <th>323</th>\n",
       "      <td>im starting to feel unwelcome in there</td>\n",
       "      <td>sadness</td>\n",
       "      <td>sadness</td>\n",
       "      <td>0.003017</td>\n",
       "    </tr>\n",
       "    <tr>\n",
       "      <th>697</th>\n",
       "      <td>i was missing him desperately and feeling idio...</td>\n",
       "      <td>sadness</td>\n",
       "      <td>sadness</td>\n",
       "      <td>0.003030</td>\n",
       "    </tr>\n",
       "    <tr>\n",
       "      <th>1152</th>\n",
       "      <td>i feel pathetic because i shouldn t complain a...</td>\n",
       "      <td>sadness</td>\n",
       "      <td>sadness</td>\n",
       "      <td>0.003038</td>\n",
       "    </tr>\n",
       "    <tr>\n",
       "      <th>244</th>\n",
       "      <td>im kinda relieve but at the same time i feel d...</td>\n",
       "      <td>sadness</td>\n",
       "      <td>sadness</td>\n",
       "      <td>0.003056</td>\n",
       "    </tr>\n",
       "    <tr>\n",
       "      <th>34</th>\n",
       "      <td>i feel that i m so pathetic and downright dumb...</td>\n",
       "      <td>sadness</td>\n",
       "      <td>sadness</td>\n",
       "      <td>0.003066</td>\n",
       "    </tr>\n",
       "    <tr>\n",
       "      <th>625</th>\n",
       "      <td>i feel unwelcome in this town as if my time he...</td>\n",
       "      <td>sadness</td>\n",
       "      <td>sadness</td>\n",
       "      <td>0.003070</td>\n",
       "    </tr>\n",
       "    <tr>\n",
       "      <th>1810</th>\n",
       "      <td>i feel like i m going to become sleep deprived...</td>\n",
       "      <td>sadness</td>\n",
       "      <td>sadness</td>\n",
       "      <td>0.003077</td>\n",
       "    </tr>\n",
       "    <tr>\n",
       "      <th>169</th>\n",
       "      <td>i begged her to come in the house with me when...</td>\n",
       "      <td>sadness</td>\n",
       "      <td>sadness</td>\n",
       "      <td>0.003077</td>\n",
       "    </tr>\n",
       "    <tr>\n",
       "      <th>1965</th>\n",
       "      <td>i started feeling pathetic and ashamed</td>\n",
       "      <td>sadness</td>\n",
       "      <td>sadness</td>\n",
       "      <td>0.003088</td>\n",
       "    </tr>\n",
       "    <tr>\n",
       "      <th>953</th>\n",
       "      <td>i also feel ashamed at the hurt caused and ash...</td>\n",
       "      <td>sadness</td>\n",
       "      <td>sadness</td>\n",
       "      <td>0.003088</td>\n",
       "    </tr>\n",
       "    <tr>\n",
       "      <th>818</th>\n",
       "      <td>i was making up a batch of waffles for breakfa...</td>\n",
       "      <td>sadness</td>\n",
       "      <td>sadness</td>\n",
       "      <td>0.003100</td>\n",
       "    </tr>\n",
       "    <tr>\n",
       "      <th>773</th>\n",
       "      <td>i don t know why i should feel humiliated to w...</td>\n",
       "      <td>sadness</td>\n",
       "      <td>sadness</td>\n",
       "      <td>0.003107</td>\n",
       "    </tr>\n",
       "  </tbody>\n",
       "</table>\n",
       "</div>"
      ],
      "text/plain": [
       "                                                   text    label  \\\n",
       "21    i feel try to tell me im ungrateful tell me im...  sadness   \n",
       "69    i have no extra money im worried all of the ti...  sadness   \n",
       "1466  i feel so ungrateful to be wishing this pregna...  sadness   \n",
       "133   i and feel quite ungrateful for it but i m loo...  sadness   \n",
       "1502             i feel ungrateful for stupid shit like  sadness   \n",
       "1310                  i feel like an ungrateful asshole  sadness   \n",
       "1531  i forgive stanley hes not so quick to forgive ...  sadness   \n",
       "76    i feel like im an unwelcome presence whenever ...  sadness   \n",
       "267   i feel like im alone in missing him and becaus...  sadness   \n",
       "1886                   i feel unloved and know im hated  sadness   \n",
       "375              i mention that i feel really unwelcome  sadness   \n",
       "392   i remember feeling disheartened one day when w...  sadness   \n",
       "1041  i suppose it all goes along with feeling unwel...  sadness   \n",
       "323              im starting to feel unwelcome in there  sadness   \n",
       "697   i was missing him desperately and feeling idio...  sadness   \n",
       "1152  i feel pathetic because i shouldn t complain a...  sadness   \n",
       "244   im kinda relieve but at the same time i feel d...  sadness   \n",
       "34    i feel that i m so pathetic and downright dumb...  sadness   \n",
       "625   i feel unwelcome in this town as if my time he...  sadness   \n",
       "1810  i feel like i m going to become sleep deprived...  sadness   \n",
       "169   i begged her to come in the house with me when...  sadness   \n",
       "1965             i started feeling pathetic and ashamed  sadness   \n",
       "953   i also feel ashamed at the hurt caused and ash...  sadness   \n",
       "818   i was making up a batch of waffles for breakfa...  sadness   \n",
       "773   i don t know why i should feel humiliated to w...  sadness   \n",
       "\n",
       "     prediction_label      loss  \n",
       "21            sadness  0.002866  \n",
       "69            sadness  0.002900  \n",
       "1466          sadness  0.002915  \n",
       "133           sadness  0.002925  \n",
       "1502          sadness  0.002945  \n",
       "1310          sadness  0.002947  \n",
       "1531          sadness  0.002971  \n",
       "76            sadness  0.002974  \n",
       "267           sadness  0.002987  \n",
       "1886          sadness  0.002989  \n",
       "375           sadness  0.003007  \n",
       "392           sadness  0.003007  \n",
       "1041          sadness  0.003017  \n",
       "323           sadness  0.003017  \n",
       "697           sadness  0.003030  \n",
       "1152          sadness  0.003038  \n",
       "244           sadness  0.003056  \n",
       "34            sadness  0.003066  \n",
       "625           sadness  0.003070  \n",
       "1810          sadness  0.003077  \n",
       "169           sadness  0.003077  \n",
       "1965          sadness  0.003088  \n",
       "953           sadness  0.003088  \n",
       "818           sadness  0.003100  \n",
       "773           sadness  0.003107  "
      ]
     },
     "execution_count": 66,
     "metadata": {},
     "output_type": "execute_result"
    }
   ],
   "source": [
    "df_test.sort_values('loss').head(25)"
   ]
  },
  {
   "cell_type": "code",
   "execution_count": 67,
   "id": "20ae26cf",
   "metadata": {},
   "outputs": [
    {
     "data": {
      "application/vnd.jupyter.widget-view+json": {
       "model_id": "4b7560b46f634dbc8b5084e6707696ae",
       "version_major": 2,
       "version_minor": 0
      },
      "text/plain": [
       "events.out.tfevents.1732204740.Aadityas-MacBook-Pro.local.10553.0:   0%|          | 0.00/7.31k [00:00<?, ?B/s]"
      ]
     },
     "metadata": {},
     "output_type": "display_data"
    },
    {
     "data": {
      "text/plain": [
       "CommitInfo(commit_url='https://huggingface.co/Sharpaxis/Sentiment_tweets_distilbert/commit/4e5aed2765d5fc9756655725a17fae7eab5dda27', commit_message='done', commit_description='', oid='4e5aed2765d5fc9756655725a17fae7eab5dda27', pr_url=None, repo_url=RepoUrl('https://huggingface.co/Sharpaxis/Sentiment_tweets_distilbert', endpoint='https://huggingface.co', repo_type='model', repo_id='Sharpaxis/Sentiment_tweets_distilbert'), pr_revision=None, pr_num=None)"
      ]
     },
     "execution_count": 67,
     "metadata": {},
     "output_type": "execute_result"
    }
   ],
   "source": [
    "trainer.push_to_hub(commit_message=\"done\")"
   ]
  },
  {
   "cell_type": "markdown",
   "id": "a87b471e",
   "metadata": {},
   "source": [
    "### Using the fine tuned model to make predictions"
   ]
  },
  {
   "cell_type": "code",
   "execution_count": 68,
   "id": "e92923fe",
   "metadata": {},
   "outputs": [],
   "source": [
    "from transformers import pipeline"
   ]
  },
  {
   "cell_type": "code",
   "execution_count": 69,
   "id": "ec2d7ce5",
   "metadata": {},
   "outputs": [
    {
     "data": {
      "application/vnd.jupyter.widget-view+json": {
       "model_id": "5ff035de1fd74b65b74127faa413390c",
       "version_major": 2,
       "version_minor": 0
      },
      "text/plain": [
       "config.json:   0%|          | 0.00/883 [00:00<?, ?B/s]"
      ]
     },
     "metadata": {},
     "output_type": "display_data"
    },
    {
     "data": {
      "application/vnd.jupyter.widget-view+json": {
       "model_id": "f7dac03000434efbbb5d4be34a94e798",
       "version_major": 2,
       "version_minor": 0
      },
      "text/plain": [
       "model.safetensors:   0%|          | 0.00/268M [00:00<?, ?B/s]"
      ]
     },
     "metadata": {},
     "output_type": "display_data"
    },
    {
     "data": {
      "application/vnd.jupyter.widget-view+json": {
       "model_id": "adc925213449458ebc82a3ad536e4987",
       "version_major": 2,
       "version_minor": 0
      },
      "text/plain": [
       "tokenizer_config.json:   0%|          | 0.00/1.20k [00:00<?, ?B/s]"
      ]
     },
     "metadata": {},
     "output_type": "display_data"
    },
    {
     "data": {
      "application/vnd.jupyter.widget-view+json": {
       "model_id": "463b1e88696542698187a423f9a5776b",
       "version_major": 2,
       "version_minor": 0
      },
      "text/plain": [
       "vocab.txt:   0%|          | 0.00/232k [00:00<?, ?B/s]"
      ]
     },
     "metadata": {},
     "output_type": "display_data"
    },
    {
     "data": {
      "application/vnd.jupyter.widget-view+json": {
       "model_id": "df13fec06de941d79a08775f8ac7b94a",
       "version_major": 2,
       "version_minor": 0
      },
      "text/plain": [
       "tokenizer.json:   0%|          | 0.00/711k [00:00<?, ?B/s]"
      ]
     },
     "metadata": {},
     "output_type": "display_data"
    },
    {
     "data": {
      "application/vnd.jupyter.widget-view+json": {
       "model_id": "a6a7b2136c9b49cda447d010f2fbaf39",
       "version_major": 2,
       "version_minor": 0
      },
      "text/plain": [
       "special_tokens_map.json:   0%|          | 0.00/125 [00:00<?, ?B/s]"
      ]
     },
     "metadata": {},
     "output_type": "display_data"
    }
   ],
   "source": [
    "model_id = 'Sharpaxis/Sentiment_tweets_distilbert'\n",
    "classifier = pipeline(\"text-classification\",model=model_id)"
   ]
  },
  {
   "cell_type": "code",
   "execution_count": 116,
   "id": "fe6907ad",
   "metadata": {},
   "outputs": [
    {
     "data": {
      "image/png": "[encoded data removed]",
      "text/plain": [
       "<Figure size 640x480 with 1 Axes>"
      ]
     },
     "metadata": {},
     "output_type": "display_data"
    }
   ],
   "source": [
    "sample_tweet = 'Guess the Conversation?  '\n",
    "preds = classifier(sample_tweet,return_all_scores=True)\n",
    "pred_df = pd.DataFrame(preds[0])\n",
    "labels = emotions_encoded['train'].features['label'].names\n",
    "plt.bar(labels,100*pred_df['score'],color='C0')\n",
    "plt.title(f'\"{sample_tweet}\"')\n",
    "plt.ylabel(\"Class probability (%)\")\n",
    "plt.ylim(1)\n",
    "plt.show()"
   ]
  },
  {
   "cell_type": "code",
   "execution_count": null,
   "id": "037d32b6",
   "metadata": {},
   "outputs": [],
   "source": []
  }
 ],
 "metadata": {
  "kernelspec": {
   "display_name": "Python 3 (ipykernel)",
   "language": "python",
   "name": "python3"
  },
  "language_info": {
   "codemirror_mode": {
    "name": "ipython",
    "version": 3
   },
   "file_extension": ".py",
   "mimetype": "text/x-python",
   "name": "python",
   "nbconvert_exporter": "python",
   "pygments_lexer": "ipython3",
   "version": "3.10.15"
  }
 },
 "nbformat": 4,
 "nbformat_minor": 5
}
